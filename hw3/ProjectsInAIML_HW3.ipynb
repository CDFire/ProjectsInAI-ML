{
  "nbformat": 4,
  "nbformat_minor": 0,
  "metadata": {
    "colab": {
      "provenance": [],
      "authorship_tag": "ABX9TyM7k9ANJsiLrM/fepuvBbiJ",
      "include_colab_link": true
    },
    "kernelspec": {
      "name": "python3",
      "display_name": "Python 3"
    },
    "language_info": {
      "name": "python"
    }
  },
  "cells": [
    {
      "cell_type": "markdown",
      "metadata": {
        "id": "view-in-github",
        "colab_type": "text"
      },
      "source": [
        "<a href=\"https://colab.research.google.com/github/CDFire/ProjectsInAI-ML/blob/main/hw3/ProjectsInAIML_HW3.ipynb\" target=\"_parent\"><img src=\"https://colab.research.google.com/assets/colab-badge.svg\" alt=\"Open In Colab\"/></a>"
      ]
    },
    {
      "cell_type": "markdown",
      "source": [
        "\n",
        "\n",
        "# Part 1"
      ],
      "metadata": {
        "id": "j_Mt_pWPr5WM"
      }
    },
    {
      "cell_type": "markdown",
      "source": [
        "**Dataset:** https://www.kaggle.com/datasets/mlg-ulb/creditcardfraud\n",
        "\n",
        "I would like to build a binary classifier that can accurately detect fraudulent transactions."
      ],
      "metadata": {
        "id": "vg7l3HDL3MnE"
      }
    },
    {
      "cell_type": "code",
      "source": [
        "import numpy as np\n",
        "import pandas as pd\n",
        "from sklearn.model_selection import train_test_split\n",
        "from sklearn.preprocessing import StandardScaler"
      ],
      "metadata": {
        "id": "5lIDKvHS1x7B"
      },
      "execution_count": null,
      "outputs": []
    },
    {
      "cell_type": "code",
      "execution_count": null,
      "metadata": {
        "id": "ZfZDU_P0r0DC"
      },
      "outputs": [],
      "source": [
        "class NeuralNetwork:\n",
        "  # Initializes neural network with random weights and zero biases.\n",
        "  def __init__(self, input_size, hidden_sizes, output_size, learning_rate, n_iter):\n",
        "    # If hidden_sizes is integer, convert it to a list.\n",
        "    if isinstance(hidden_sizes, int):\n",
        "      hidden_sizes = [hidden_sizes]\n",
        "    self.input_size = input_size\n",
        "    self.hidden_sizes = hidden_sizes\n",
        "    self.output_size = output_size\n",
        "    self.learning_rate = learning_rate\n",
        "    self.n_iter = n_iter\n",
        "\n",
        "    # Initialize weights and biases for each layer.\n",
        "    self.weights = []\n",
        "    self.biases = []\n",
        "\n",
        "    # First hidden layer\n",
        "    self.weights.append(np.random.randn(input_size, hidden_sizes[0]) * np.sqrt(2. / input_size))\n",
        "    self.biases.append(np.zeros((1, hidden_sizes[0])))\n",
        "\n",
        "    # Additional hidden layers\n",
        "    for i in range(1, len(hidden_sizes)):\n",
        "      self.weights.append(np.random.randn(hidden_sizes[i-1], hidden_sizes[i]) * np.sqrt(2. / hidden_sizes[i-1]))\n",
        "      self.biases.append(np.zeros((1, hidden_sizes[i])))\n",
        "\n",
        "    # Output layer\n",
        "    self.weights.append(np.random.randn(hidden_sizes[-1], output_size) * np.sqrt(2. / hidden_sizes[-1]))\n",
        "    self.biases.append(np.zeros((1, output_size)))\n",
        "\n",
        "  # Sigmoid activation function\n",
        "  def sigmoid(self, z):\n",
        "    return 1 / (1 + np.exp(-z))\n",
        "\n",
        "  # Sigmoid derivative\n",
        "  def sigmoid_derivative(self, z):\n",
        "    return z * (1 - z)\n",
        "\n",
        "  # ReLU activation function\n",
        "  def relu(self, z):\n",
        "    return np.maximum(0, z)\n",
        "\n",
        "  # ReLU derivative\n",
        "  def relu_derivative(self, z):\n",
        "    dz = np.array(z)\n",
        "    dz[z <= 0] = 0\n",
        "    dz[z > 0] = 1\n",
        "    return dz\n",
        "\n",
        "  # Forward propagation\n",
        "  def forward(self, X):\n",
        "    # Lists to store linear combinations and activations for each layer.\n",
        "    self.Zs = []\n",
        "    self.As = [X]\n",
        "\n",
        "    # Loop through each layer.\n",
        "    for i in range(len(self.weights)):\n",
        "      # Hidden layer linear step\n",
        "      z = np.dot(self.As[i], self.weights[i]) + self.biases[i]\n",
        "      self.Zs.append(z)\n",
        "      # For hidden layers, use ReLU activation. For the output layer, use sigmoid.\n",
        "      if i == len(self.weights) - 1:\n",
        "        a = self.sigmoid(z)\n",
        "      else:\n",
        "        a = self.relu(z)\n",
        "      self.As.append(a)\n",
        "\n",
        "    return self.As[-1]\n",
        "\n",
        "  # Cost function\n",
        "  def cost(self, y, output):\n",
        "    m = y.shape[0]\n",
        "    epsilon = 1e-8\n",
        "    cost = -np.sum(y * np.log(output + epsilon) + (1 - y) * np.log(1 - output + epsilon)) / m\n",
        "    return cost\n",
        "\n",
        "  # Backward propagation\n",
        "  def backward(self, y):\n",
        "    m = y.shape[0]\n",
        "    L = len(self.weights)\n",
        "    dZ = [None] * L\n",
        "    dW = [None] * L\n",
        "    db = [None] * L\n",
        "\n",
        "    # Calculate the gradient for the output layer.\n",
        "    dZ[L-1] = self.As[-1] - y\n",
        "    dW[L-1] = np.dot(self.As[L-1].T, dZ[L-1]) / m\n",
        "    db[L-1] = np.sum(dZ[L-1], axis=0, keepdims=True) / m\n",
        "\n",
        "    # Backpropagate error to hidden layers.\n",
        "    for i in range(L-2, -1, -1):\n",
        "      dA = np.dot(dZ[i+1], self.weights[i+1].T)\n",
        "      dZ[i] = dA * self.relu_derivative(self.Zs[i])\n",
        "      dW[i] = np.dot(self.As[i].T, dZ[i]) / m\n",
        "      db[i] = np.sum(dZ[i], axis=0, keepdims=True) / m\n",
        "\n",
        "    # Update weights and biases with gradient descent.\n",
        "    for i in range(L):\n",
        "      self.weights[i] -= self.learning_rate * dW[i]\n",
        "      self.biases[i]  -= self.learning_rate * db[i]\n",
        "\n",
        "  # Train model\n",
        "  def train(self, X, y):\n",
        "    for i in range(self.n_iter):\n",
        "      # Forward propagation\n",
        "      output = self.forward(X)\n",
        "\n",
        "      # Output cost updates\n",
        "      if i % 100 == 0:\n",
        "        cost_value = self.cost(y, output)\n",
        "        print(f\"Iteration {i}: cost = {cost_value:.4f}\")\n",
        "\n",
        "      # Backward propagation\n",
        "      self.backward(y)\n",
        "\n",
        "  # Predict X\n",
        "  def predict(self, X):\n",
        "    # Forward propagation.\n",
        "    output = self.forward(X)\n",
        "    # Convert probabilities into binary class labels\n",
        "    predictions = (output > 0.5).astype(int)\n",
        "    return predictions"
      ]
    },
    {
      "cell_type": "code",
      "source": [
        "# Load dataset\n",
        "data = pd.read_csv('creditcard.csv')\n",
        "data.dropna(inplace=True)\n",
        "\n",
        "# Split dataset into data and labels\n",
        "X = data.drop('Class', axis=1)\n",
        "y = data['Class']\n",
        "\n",
        "# Standardize features\n",
        "scaler = StandardScaler()\n",
        "X_scaled = scaler.fit_transform(X)\n",
        "\n",
        "# Split into train and test data\n",
        "X_train, X_test, y_train, y_test = train_test_split(X_scaled, y, test_size=0.2, stratify=y)\n",
        "\n",
        "# Convert to 2D numpy array for neural network use\n",
        "y_train = y_train.values.reshape(-1, 1)\n",
        "y_test = y_test.values.reshape(-1, 1)"
      ],
      "metadata": {
        "id": "9bTvYU94zeii"
      },
      "execution_count": null,
      "outputs": []
    },
    {
      "cell_type": "code",
      "source": [
        "# Create neural network\n",
        "nn = NeuralNetwork(input_size=X_train.shape[1], hidden_sizes=[16, 8], output_size=1, learning_rate=0.001, n_iter=5000)\n",
        "\n",
        "# Train the neural network\n",
        "nn.train(X_train, y_train)"
      ],
      "metadata": {
        "colab": {
          "base_uri": "https://localhost:8080/"
        },
        "id": "fNvEkMDG5deE",
        "outputId": "f2923c8d-7c59-4887-e5f4-4eb16f98a8bb"
      },
      "execution_count": null,
      "outputs": [
        {
          "output_type": "stream",
          "name": "stdout",
          "text": [
            "Iteration 0: cost = 0.9820\n",
            "Iteration 100: cost = 0.7341\n",
            "Iteration 200: cost = 0.5773\n",
            "Iteration 300: cost = 0.4718\n",
            "Iteration 400: cost = 0.3971\n",
            "Iteration 500: cost = 0.3415\n",
            "Iteration 600: cost = 0.2987\n",
            "Iteration 700: cost = 0.2647\n",
            "Iteration 800: cost = 0.2369\n",
            "Iteration 900: cost = 0.2139\n",
            "Iteration 1000: cost = 0.1946\n",
            "Iteration 1100: cost = 0.1781\n",
            "Iteration 1200: cost = 0.1639\n",
            "Iteration 1300: cost = 0.1516\n",
            "Iteration 1400: cost = 0.1408\n",
            "Iteration 1500: cost = 0.1313\n",
            "Iteration 1600: cost = 0.1229\n",
            "Iteration 1700: cost = 0.1155\n",
            "Iteration 1800: cost = 0.1088\n",
            "Iteration 1900: cost = 0.1028\n",
            "Iteration 2000: cost = 0.0974\n",
            "Iteration 2100: cost = 0.0926\n",
            "Iteration 2200: cost = 0.0882\n",
            "Iteration 2300: cost = 0.0841\n",
            "Iteration 2400: cost = 0.0805\n",
            "Iteration 2500: cost = 0.0771\n",
            "Iteration 2600: cost = 0.0740\n",
            "Iteration 2700: cost = 0.0712\n",
            "Iteration 2800: cost = 0.0686\n",
            "Iteration 2900: cost = 0.0662\n",
            "Iteration 3000: cost = 0.0639\n",
            "Iteration 3100: cost = 0.0619\n",
            "Iteration 3200: cost = 0.0599\n",
            "Iteration 3300: cost = 0.0581\n",
            "Iteration 3400: cost = 0.0565\n",
            "Iteration 3500: cost = 0.0549\n",
            "Iteration 3600: cost = 0.0534\n",
            "Iteration 3700: cost = 0.0521\n",
            "Iteration 3800: cost = 0.0508\n",
            "Iteration 3900: cost = 0.0496\n",
            "Iteration 4000: cost = 0.0484\n",
            "Iteration 4100: cost = 0.0473\n",
            "Iteration 4200: cost = 0.0463\n",
            "Iteration 4300: cost = 0.0453\n",
            "Iteration 4400: cost = 0.0444\n",
            "Iteration 4500: cost = 0.0435\n",
            "Iteration 4600: cost = 0.0427\n",
            "Iteration 4700: cost = 0.0419\n",
            "Iteration 4800: cost = 0.0412\n",
            "Iteration 4900: cost = 0.0404\n"
          ]
        }
      ]
    },
    {
      "cell_type": "markdown",
      "source": [
        "In the end, I decided to stick with my original gradient descent function. I implemented mini-batch gradient descent to see if it would help, but it didn't have a huge impact on the runtime and overall just wasn't much different. The neural network didn't take too long to train in the first place ~10-20 minutes so I just stuck with my original implementation."
      ],
      "metadata": {
        "id": "wgEzHkNgAoGq"
      }
    },
    {
      "cell_type": "code",
      "source": [
        "# Evaluate the model on the test set\n",
        "predictions = nn.predict(X_test)\n",
        "accuracy = np.mean(predictions == y_test)\n",
        "print(\"Test Accuracy:\", accuracy)"
      ],
      "metadata": {
        "colab": {
          "base_uri": "https://localhost:8080/"
        },
        "id": "w4-de3wu8yvC",
        "outputId": "a3a39e0e-5619-49d8-ba71-d297c76a05c0"
      },
      "execution_count": null,
      "outputs": [
        {
          "output_type": "stream",
          "name": "stdout",
          "text": [
            "Test Accuracy: 0.9982795547909132\n"
          ]
        }
      ]
    },
    {
      "cell_type": "markdown",
      "source": [
        "# Part 2"
      ],
      "metadata": {
        "id": "QL_S4LWxBr2U"
      }
    },
    {
      "cell_type": "markdown",
      "source": [
        "Here are the resources I used and why they were essential:\n",
        "1. PyTorch Tutorials: Build a Model from Scratch: https://pytorch.org/tutorials/beginner/basics/buildmodel_tutorial.html\n",
        "\n",
        "  I have worked with pytorch a few times, but even so, I find myself going back to this tutorial when making a new model. This resource is invaluable for understanding how to structure neural networks and keep track of computations.\n",
        "\n",
        "2. Deep Learning with PyTorch: A 60 Minute Blitz: https://pytorch.org/tutorials/beginner/deep_learning_60min_blitz.html\n",
        "\n",
        "  This video is a great comprehensive overview of building neural networks in PyTorch. It reinforces the concepts from the first resource and gave me practical examples on how to implement a simple 2-layer network, including loss computation and optimization."
      ],
      "metadata": {
        "id": "6aLE1KI-CDjr"
      }
    },
    {
      "cell_type": "code",
      "source": [
        "import matplotlib.pyplot as plt\n",
        "import seaborn as sns\n",
        "import torch\n",
        "import torch.nn as nn\n",
        "import torch.optim as optim\n",
        "from torch.utils.data import TensorDataset, DataLoader\n",
        "from sklearn.metrics import accuracy_score, precision_score, recall_score, f1_score"
      ],
      "metadata": {
        "id": "fi1sGyhK7hZG"
      },
      "execution_count": null,
      "outputs": []
    },
    {
      "cell_type": "code",
      "source": [
        "data = pd.read_csv(\"creditcard.csv\")"
      ],
      "metadata": {
        "id": "LGW2B-6_QeeB"
      },
      "execution_count": null,
      "outputs": []
    },
    {
      "cell_type": "markdown",
      "source": [
        "**Exploratory Data Analysis:**"
      ],
      "metadata": {
        "id": "HEg51oKMQ_v2"
      }
    },
    {
      "cell_type": "code",
      "source": [
        "# Remove rows with Na values\n",
        "data.dropna(inplace=True)\n",
        "\n",
        "# Standardize features\n",
        "scaler = StandardScaler()\n",
        "X_scaled = scaler.fit_transform(X)\n",
        "\n",
        "# Show distribution of classes\n",
        "sns.countplot(x=\"Class\", data=data)\n",
        "plt.title(\"Distribution of Transaction Classes (0: Non-Fraud, 1: Fraud)\")\n",
        "plt.show()"
      ],
      "metadata": {
        "colab": {
          "base_uri": "https://localhost:8080/",
          "height": 472
        },
        "id": "q_-43vmJQldn",
        "outputId": "0bf66572-9599-4474-8cff-d59fc29fe7e2"
      },
      "execution_count": null,
      "outputs": [
        {
          "output_type": "display_data",
          "data": {
            "text/plain": [
              "<Figure size 640x480 with 1 Axes>"
            ],
            "image/png": "[encoded data removed]"
          },
          "metadata": {}
        }
      ]
    },
    {
      "cell_type": "markdown",
      "source": [
        "**train-dev-test split:**"
      ],
      "metadata": {
        "id": "I3xfTcjkRspw"
      }
    },
    {
      "cell_type": "code",
      "source": [
        "# Split the data:\n",
        "# Use 20% as test data.\n",
        "X_temp, X_test, y_temp, y_test = train_test_split(X_scaled, y, test_size=0.2, stratify=y)\n",
        "\n",
        "# From remaining 80%, use 20% as a development set.\n",
        "X_train, X_dev, y_train, y_dev = train_test_split(X_temp, y_temp, test_size=0.2, stratify=y_temp)\n",
        "\n",
        "# Convert data to pytorch tensors\n",
        "X_train = torch.tensor(X_train, dtype=torch.float32)\n",
        "y_train = torch.tensor(y_train.values, dtype=torch.float32).view(-1, 1)\n",
        "X_dev = torch.tensor(X_dev, dtype=torch.float32)\n",
        "y_dev = torch.tensor(y_dev.values, dtype=torch.float32).view(-1, 1)\n",
        "X_test = torch.tensor(X_test, dtype=torch.float32)\n",
        "y_test = torch.tensor(y_test.values, dtype=torch.float32).view(-1, 1)"
      ],
      "metadata": {
        "id": "sbzqVpXNRRMh"
      },
      "execution_count": null,
      "outputs": []
    },
    {
      "cell_type": "markdown",
      "source": [
        "**forward propagation:**"
      ],
      "metadata": {
        "id": "aO_JBJOqR1Bu"
      }
    },
    {
      "cell_type": "code",
      "source": [
        "class TwoLayerNN(nn.Module):\n",
        "    def __init__(self, input_dim, hidden_dim, output_dim):\n",
        "        super(TwoLayerNN, self).__init__()\n",
        "        # First fully connected layer\n",
        "        self.fc1 = nn.Linear(input_dim, hidden_dim)\n",
        "        # ReLU activation for the hidden layer\n",
        "        self.relu = nn.ReLU()\n",
        "        # Second fully connected layer\n",
        "        self.fc2 = nn.Linear(hidden_dim, output_dim)\n",
        "        # Sigmoid activation for the output layer (for binary classification)\n",
        "        self.sigmoid = nn.Sigmoid()\n",
        "\n",
        "    def forward(self, x):\n",
        "        out = self.fc1(x)\n",
        "        out = self.relu(out)\n",
        "        out = self.fc2(out)\n",
        "        out = self.sigmoid(out)\n",
        "        return out"
      ],
      "metadata": {
        "id": "epJgwHmZRyu1"
      },
      "execution_count": null,
      "outputs": []
    },
    {
      "cell_type": "code",
      "source": [
        "# Hyper-parameters\n",
        "input_dim = X_train.shape[1]   # number of features: 30\n",
        "hidden_dim = 16                # hidden layer size of 16\n",
        "output_dim = 1\n",
        "num_epochs = 10\n",
        "batch_size = 128\n",
        "learning_rate = 0.001\n",
        "\n",
        "# Instantiate the model with chosen hyperparameters\n",
        "model = TwoLayerNN(input_dim, hidden_dim, output_dim)"
      ],
      "metadata": {
        "id": "8gb3R0LBSXDF"
      },
      "execution_count": null,
      "outputs": []
    },
    {
      "cell_type": "markdown",
      "source": [
        "**cost function**"
      ],
      "metadata": {
        "id": "Pd_vmBmhS2Ip"
      }
    },
    {
      "cell_type": "code",
      "source": [
        "# Use binary cross entropy loss for the cost function\n",
        "criterion = nn.BCELoss()"
      ],
      "metadata": {
        "id": "7tGYftBTS0_o"
      },
      "execution_count": null,
      "outputs": []
    },
    {
      "cell_type": "markdown",
      "source": [
        "Implement gradient descent"
      ],
      "metadata": {
        "id": "escrrEuzTHJ2"
      }
    },
    {
      "cell_type": "code",
      "source": [
        "# Use Adam optimizer for model training\n",
        "optimizer = optim.Adam(model.parameters(), lr=learning_rate)\n",
        "\n",
        "# Create DataLoader for mini-batch training\n",
        "train_dataset = TensorDataset(X_train, y_train)\n",
        "train_loader = DataLoader(dataset=train_dataset, batch_size=batch_size, shuffle=True)"
      ],
      "metadata": {
        "id": "lGRwpaTtTEzi"
      },
      "execution_count": null,
      "outputs": []
    },
    {
      "cell_type": "code",
      "source": [
        "for epoch in range(num_epochs):\n",
        "    model.train()\n",
        "    running_loss = 0.0\n",
        "    for batch_X, batch_y in train_loader:\n",
        "        # Forward propagation\n",
        "        outputs = model(batch_X)\n",
        "        loss = criterion(outputs, batch_y)\n",
        "\n",
        "        # Backward propagation\n",
        "        optimizer.zero_grad()\n",
        "        loss.backward()\n",
        "        optimizer.step()\n",
        "\n",
        "        running_loss += loss.item() * batch_X.size(0)\n",
        "    epoch_loss = running_loss / len(train_loader.dataset)\n",
        "\n",
        "    # Evaluate on the development set at each epoch\n",
        "    model.eval()\n",
        "    with torch.no_grad():\n",
        "        dev_outputs = model(X_dev)\n",
        "        dev_loss = criterion(dev_outputs, y_dev).item()\n",
        "\n",
        "    print(f\"Epoch [{epoch+1}/{num_epochs}], Train Loss: {epoch_loss:.4f}, Dev Loss: {dev_loss:.4f}\")"
      ],
      "metadata": {
        "colab": {
          "base_uri": "https://localhost:8080/"
        },
        "id": "Qmqb3yPKThZV",
        "outputId": "adb14f7e-cd62-484a-da09-2192f4804ff6"
      },
      "execution_count": null,
      "outputs": [
        {
          "output_type": "stream",
          "name": "stdout",
          "text": [
            "Epoch [1/10], Train Loss: 0.0798, Dev Loss: 0.0053\n",
            "Epoch [2/10], Train Loss: 0.0046, Dev Loss: 0.0034\n",
            "Epoch [3/10], Train Loss: 0.0036, Dev Loss: 0.0031\n",
            "Epoch [4/10], Train Loss: 0.0032, Dev Loss: 0.0029\n",
            "Epoch [5/10], Train Loss: 0.0030, Dev Loss: 0.0028\n",
            "Epoch [6/10], Train Loss: 0.0029, Dev Loss: 0.0029\n",
            "Epoch [7/10], Train Loss: 0.0028, Dev Loss: 0.0028\n",
            "Epoch [8/10], Train Loss: 0.0026, Dev Loss: 0.0030\n",
            "Epoch [9/10], Train Loss: 0.0026, Dev Loss: 0.0028\n",
            "Epoch [10/10], Train Loss: 0.0025, Dev Loss: 0.0028\n"
          ]
        }
      ]
    },
    {
      "cell_type": "markdown",
      "source": [
        "**results:**"
      ],
      "metadata": {
        "id": "PmKj4iA_T_xR"
      }
    },
    {
      "cell_type": "code",
      "source": [
        "model.eval()\n",
        "with torch.no_grad():\n",
        "    test_outputs = model(X_test)\n",
        "    # Convert probabilities to binary predictions\n",
        "    test_predictions = (test_outputs >= 0.5).float()\n",
        "\n",
        "    # Calculate accuracy\n",
        "    test_accuracy = (test_predictions.eq(y_test).sum().item()) / y_test.shape[0]\n",
        "    print(\"\\nTest Accuracy:\", test_accuracy)\n",
        "\n",
        "    # Convert predictions and labels to NumPy arrays for metric calculations\n",
        "    y_test_np = y_test.cpu().numpy()\n",
        "    test_predictions_np = test_predictions.cpu().numpy()\n",
        "\n",
        "    # Calculate Precision, Recall, and F1-score\n",
        "    precision = precision_score(y_test_np, test_predictions_np)\n",
        "    recall = recall_score(y_test_np, test_predictions_np)\n",
        "    f1 = f1_score(y_test_np, test_predictions_np)\n",
        "\n",
        "    print(\"Test Precision: {:.4f}\".format(precision))\n",
        "    print(\"Test Recall: {:.4f}\".format(recall))\n",
        "    print(\"Test F1-Score: {:.4f}\".format(f1))"
      ],
      "metadata": {
        "colab": {
          "base_uri": "https://localhost:8080/"
        },
        "id": "OiCexAvXTxSR",
        "outputId": "27af6402-c84e-4789-a79f-41406c669893"
      },
      "execution_count": null,
      "outputs": [
        {
          "output_type": "stream",
          "name": "stdout",
          "text": [
            "\n",
            "Test Accuracy: 0.9994733330992591\n",
            "Test Precision: 0.9722\n",
            "Test Recall: 0.7143\n",
            "Test F1-Score: 0.8235\n"
          ]
        }
      ]
    },
    {
      "cell_type": "markdown",
      "source": [
        "Hyperparameter Selection:\n",
        "\n",
        "I initially set the hidden layer size to 16 based on a balance between model capacity and simplicity. Given that my task is binary classification on the credit card fraud dataset (which has a relatively straightforward decision boundary for distinguishing fraud from non-fraud), a modest number of hidden neurons was sufficient. Preliminary experiments with larger sizes (e.g., 32 or 64 neurons) did not yield significant performance improvements and only worsened overfitting.\n",
        "\n",
        "I started with a learning rate of 0.001. This value was chosen because it typically provides a good balance between convergence speed and stability. I performed a few trials to ensure that the training loss decreased smoothly without oscillations, confirming that this learning rate was appropriate for the problem.\n",
        "\n",
        "A batch size of 128 was selected to balance between the stability of gradient estimates and computational efficiency. Smaller batches can introduce too much noise into the gradient estimates, while very large batches could slow down training and potentially require more memory than is available. The chosen batch size provided stable updates and efficient training given the size of the dataset.\n",
        "\n",
        "I set the number of epochs to 10. More epochs were not necessary to reach convergence.\n",
        "\n",
        "In this project, I did not apply explicit regularization techniques such as dropout or L2 weight decay. The credit card fraud dataset is quite large, which helps mitigate overfitting even with a relatively simple network. In addition, the neural network architecture is a 2-layer network meaning that the model capacity is not excessively high for this task.\n",
        "\n",
        "I chose to use Adam as the optimizer because it automatically adjusts the learning rates for individual parameters based on the first and second moments of the gradients. This adaptive behavior generally leads to faster convergence, especially on problems with noisy or sparse gradients. This was an important consideration in this fraud detection where the minority class is underrepresented."
      ],
      "metadata": {
        "id": "iTe_rObWU19T"
      }
    },
    {
      "cell_type": "markdown",
      "source": [
        "# Task 4"
      ],
      "metadata": {
        "id": "qZZeQ7DdWIog"
      }
    },
    {
      "cell_type": "code",
      "source": [
        "from sklearn.linear_model import LogisticRegression"
      ],
      "metadata": {
        "id": "LSQJgZcXWOU4"
      },
      "execution_count": null,
      "outputs": []
    },
    {
      "cell_type": "code",
      "source": [
        "data = pd.read_csv(\"creditcard.csv\")\n",
        "data.dropna(inplace=True)\n",
        "X = data.drop(\"Class\", axis=1)\n",
        "y = data[\"Class\"]\n",
        "\n",
        "# Normalize features\n",
        "scaler = StandardScaler()\n",
        "X_scaled = scaler.fit_transform(X)\n",
        "\n",
        "# Train-Dev-Test split\n",
        "X_temp, X_test, y_temp, y_test = train_test_split(X_scaled, y, test_size=0.2, stratify=y)\n",
        "X_train, X_dev, y_train, y_dev = train_test_split(X_temp, y_temp, test_size=0.2, stratify=y_temp)\n",
        "\n",
        "# Convert to NumPy arrays.\n",
        "X_train_np = X_train\n",
        "X_dev_np = X_dev\n",
        "X_test_np = X_test\n",
        "y_train_np = y_train.values\n",
        "y_dev_np = y_dev.values\n",
        "y_test_np = y_test.values\n",
        "\n",
        "# Train the Logistic Regression model\n",
        "baseline_model = LogisticRegression(max_iter=1000, class_weight='balanced')\n",
        "baseline_model.fit(X_train_np, y_train_np)\n",
        "\n",
        "# Evaluate\n",
        "lr_predictions = baseline_model.predict(X_test_np)\n",
        "\n",
        "# Compute metrics\n",
        "lr_accuracy = accuracy_score(y_test_np, lr_predictions)\n",
        "lr_precision = precision_score(y_test_np, lr_predictions)\n",
        "lr_recall = recall_score(y_test_np, lr_predictions)\n",
        "lr_f1 = f1_score(y_test_np, lr_predictions)\n",
        "\n",
        "print(\"Logistic Regression Baseline Results:\")\n",
        "print(\"Accuracy:  {:.4f}\".format(lr_accuracy))\n",
        "print(\"Precision: {:.4f}\".format(lr_precision))\n",
        "print(\"Recall:    {:.4f}\".format(lr_recall))\n",
        "print(\"F1-Score:  {:.4f}\".format(lr_f1))"
      ],
      "metadata": {
        "colab": {
          "base_uri": "https://localhost:8080/"
        },
        "id": "PBzUi5KlWO1q",
        "outputId": "baa7a0dc-da58-4dd1-a133-08cbabf5319e"
      },
      "execution_count": null,
      "outputs": [
        {
          "output_type": "stream",
          "name": "stdout",
          "text": [
            "Logistic Regression Baseline Results:\n",
            "Accuracy:  0.9802\n",
            "Precision: 0.0722\n",
            "Recall:    0.8878\n",
            "F1-Score:  0.1335\n"
          ]
        }
      ]
    },
    {
      "cell_type": "markdown",
      "source": [
        "Neural Network has high precision (97.22%), meaning that when it predicts a transaction as fraud, it is almost always correct. However, its recall is lower (71.43%), which indicates that it misses some fraud cases. Logistic regression, on the other hand, achieves a high recall (88.78%), so it catches most of the actual fraud cases, but its precision is extremely low (7.22%). This indicates that it generates a large number of false positives.\n",
        "The F1-score is much higher for the neural network (~82.35%) compared to logistic regression (~13.35%). This suggests that overall, the NN provides a much more reliable performance.\n",
        "\n",
        "The NN is capable of learning non-linear relationships in the data. Fraud detection often involves complex patterns and interactions among features, which a neural network can capture effectively. The NN’s hidden layers allow it to build more sophisticated decision boundaries. Logistic regression on the other hand, is a linear model, meaning it can only capture linear relationships. In an imbalanced and complex dataset like credit card fraud, a linear decision boundary may not be sufficient, leading to poor precision despite a high recall. In addition, we are working with a highly imbalanced dataset. The decision threshold can greatly affect performance metrics. Logistic regression in this case, might have been adjusted to favor recall at the cost of precision, resulting in many false positives.\n",
        "\n",
        "In fraud detection, high precision is crucial because each false positive can result in unnecessary investigations or customer inconvenience. The neural network’s high precision makes it far more practical for real-world applications.\n",
        "\t•\tModel Interpretability vs. Performance:\n",
        "\t•\tWhile logistic regression is more interpretable, its performance in this context is significantly worse. In situations where performance is paramount (and additional techniques can be used to interpret NN decisions), the neural network’s improved metrics are a compelling advantage."
      ],
      "metadata": {
        "id": "E1rgW_4kXaVw"
      }
    }
  ]
}