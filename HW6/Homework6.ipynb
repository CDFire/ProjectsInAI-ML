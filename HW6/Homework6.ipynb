{
  "nbformat": 4,
  "nbformat_minor": 0,
  "metadata": {
    "colab": {
      "provenance": [],
      "gpuType": "T4",
      "authorship_tag": "ABX9TyPj36ycG4TqC7RMLiDTW+1C",
      "include_colab_link": true
    },
    "kernelspec": {
      "name": "python3",
      "display_name": "Python 3"
    },
    "language_info": {
      "name": "python"
    },
    "accelerator": "GPU"
  },
  "cells": [
    {
      "cell_type": "markdown",
      "metadata": {
        "id": "view-in-github",
        "colab_type": "text"
      },
      "source": [
        "<a href=\"https://colab.research.google.com/github/CDFire/ProjectsInAI-ML/blob/main/HW6/Homework6.ipynb\" target=\"_parent\"><img src=\"https://colab.research.google.com/assets/colab-badge.svg\" alt=\"Open In Colab\"/></a>"
      ]
    },
    {
      "cell_type": "markdown",
      "source": [
        "#Task 1"
      ],
      "metadata": {
        "id": "XvSeedpAMQDL"
      }
    },
    {
      "cell_type": "code",
      "source": [
        "pip install datasets"
      ],
      "metadata": {
        "collapsed": true,
        "colab": {
          "base_uri": "https://localhost:8080/"
        },
        "id": "rKJvD3ksDTAN",
        "outputId": "fba8f6ea-46ac-4dd2-b301-8281812d8eb8"
      },
      "execution_count": 2,
      "outputs": [
        {
          "output_type": "stream",
          "name": "stdout",
          "text": [
            "Collecting datasets\n",
            "  Downloading datasets-3.5.0-py3-none-any.whl.metadata (19 kB)\n",
            "Requirement already satisfied: filelock in /usr/local/lib/python3.11/dist-packages (from datasets) (3.18.0)\n",
            "Requirement already satisfied: numpy>=1.17 in /usr/local/lib/python3.11/dist-packages (from datasets) (2.0.2)\n",
            "Requirement already satisfied: pyarrow>=15.0.0 in /usr/local/lib/python3.11/dist-packages (from datasets) (18.1.0)\n",
            "Collecting dill<0.3.9,>=0.3.0 (from datasets)\n",
            "  Downloading dill-0.3.8-py3-none-any.whl.metadata (10 kB)\n",
            "Requirement already satisfied: pandas in /usr/local/lib/python3.11/dist-packages (from datasets) (2.2.2)\n",
            "Requirement already satisfied: requests>=2.32.2 in /usr/local/lib/python3.11/dist-packages (from datasets) (2.32.3)\n",
            "Requirement already satisfied: tqdm>=4.66.3 in /usr/local/lib/python3.11/dist-packages (from datasets) (4.67.1)\n",
            "Collecting xxhash (from datasets)\n",
            "  Downloading xxhash-3.5.0-cp311-cp311-manylinux_2_17_x86_64.manylinux2014_x86_64.whl.metadata (12 kB)\n",
            "Collecting multiprocess<0.70.17 (from datasets)\n",
            "  Downloading multiprocess-0.70.16-py311-none-any.whl.metadata (7.2 kB)\n",
            "Collecting fsspec<=2024.12.0,>=2023.1.0 (from fsspec[http]<=2024.12.0,>=2023.1.0->datasets)\n",
            "  Downloading fsspec-2024.12.0-py3-none-any.whl.metadata (11 kB)\n",
            "Requirement already satisfied: aiohttp in /usr/local/lib/python3.11/dist-packages (from datasets) (3.11.14)\n",
            "Requirement already satisfied: huggingface-hub>=0.24.0 in /usr/local/lib/python3.11/dist-packages (from datasets) (0.29.3)\n",
            "Requirement already satisfied: packaging in /usr/local/lib/python3.11/dist-packages (from datasets) (24.2)\n",
            "Requirement already satisfied: pyyaml>=5.1 in /usr/local/lib/python3.11/dist-packages (from datasets) (6.0.2)\n",
            "Requirement already satisfied: aiohappyeyeballs>=2.3.0 in /usr/local/lib/python3.11/dist-packages (from aiohttp->datasets) (2.6.1)\n",
            "Requirement already satisfied: aiosignal>=1.1.2 in /usr/local/lib/python3.11/dist-packages (from aiohttp->datasets) (1.3.2)\n",
            "Requirement already satisfied: attrs>=17.3.0 in /usr/local/lib/python3.11/dist-packages (from aiohttp->datasets) (25.3.0)\n",
            "Requirement already satisfied: frozenlist>=1.1.1 in /usr/local/lib/python3.11/dist-packages (from aiohttp->datasets) (1.5.0)\n",
            "Requirement already satisfied: multidict<7.0,>=4.5 in /usr/local/lib/python3.11/dist-packages (from aiohttp->datasets) (6.2.0)\n",
            "Requirement already satisfied: propcache>=0.2.0 in /usr/local/lib/python3.11/dist-packages (from aiohttp->datasets) (0.3.1)\n",
            "Requirement already satisfied: yarl<2.0,>=1.17.0 in /usr/local/lib/python3.11/dist-packages (from aiohttp->datasets) (1.18.3)\n",
            "Requirement already satisfied: typing-extensions>=3.7.4.3 in /usr/local/lib/python3.11/dist-packages (from huggingface-hub>=0.24.0->datasets) (4.13.0)\n",
            "Requirement already satisfied: charset-normalizer<4,>=2 in /usr/local/lib/python3.11/dist-packages (from requests>=2.32.2->datasets) (3.4.1)\n",
            "Requirement already satisfied: idna<4,>=2.5 in /usr/local/lib/python3.11/dist-packages (from requests>=2.32.2->datasets) (3.10)\n",
            "Requirement already satisfied: urllib3<3,>=1.21.1 in /usr/local/lib/python3.11/dist-packages (from requests>=2.32.2->datasets) (2.3.0)\n",
            "Requirement already satisfied: certifi>=2017.4.17 in /usr/local/lib/python3.11/dist-packages (from requests>=2.32.2->datasets) (2025.1.31)\n",
            "Requirement already satisfied: python-dateutil>=2.8.2 in /usr/local/lib/python3.11/dist-packages (from pandas->datasets) (2.8.2)\n",
            "Requirement already satisfied: pytz>=2020.1 in /usr/local/lib/python3.11/dist-packages (from pandas->datasets) (2025.2)\n",
            "Requirement already satisfied: tzdata>=2022.7 in /usr/local/lib/python3.11/dist-packages (from pandas->datasets) (2025.2)\n",
            "Requirement already satisfied: six>=1.5 in /usr/local/lib/python3.11/dist-packages (from python-dateutil>=2.8.2->pandas->datasets) (1.17.0)\n",
            "Downloading datasets-3.5.0-py3-none-any.whl (491 kB)\n",
            "\u001b[2K   \u001b[90m━━━━━━━━━━━━━━━━━━━━━━━━━━━━━━━━━━━━━━━━\u001b[0m \u001b[32m491.2/491.2 kB\u001b[0m \u001b[31m16.4 MB/s\u001b[0m eta \u001b[36m0:00:00\u001b[0m\n",
            "\u001b[?25hDownloading dill-0.3.8-py3-none-any.whl (116 kB)\n",
            "\u001b[2K   \u001b[90m━━━━━━━━━━━━━━━━━━━━━━━━━━━━━━━━━━━━━━━━\u001b[0m \u001b[32m116.3/116.3 kB\u001b[0m \u001b[31m8.8 MB/s\u001b[0m eta \u001b[36m0:00:00\u001b[0m\n",
            "\u001b[?25hDownloading fsspec-2024.12.0-py3-none-any.whl (183 kB)\n",
            "\u001b[2K   \u001b[90m━━━━━━━━━━━━━━━━━━━━━━━━━━━━━━━━━━━━━━━━\u001b[0m \u001b[32m183.9/183.9 kB\u001b[0m \u001b[31m11.6 MB/s\u001b[0m eta \u001b[36m0:00:00\u001b[0m\n",
            "\u001b[?25hDownloading multiprocess-0.70.16-py311-none-any.whl (143 kB)\n",
            "\u001b[2K   \u001b[90m━━━━━━━━━━━━━━━━━━━━━━━━━━━━━━━━━━━━━━━━\u001b[0m \u001b[32m143.5/143.5 kB\u001b[0m \u001b[31m10.9 MB/s\u001b[0m eta \u001b[36m0:00:00\u001b[0m\n",
            "\u001b[?25hDownloading xxhash-3.5.0-cp311-cp311-manylinux_2_17_x86_64.manylinux2014_x86_64.whl (194 kB)\n",
            "\u001b[2K   \u001b[90m━━━━━━━━━━━━━━━━━━━━━━━━━━━━━━━━━━━━━━━━\u001b[0m \u001b[32m194.8/194.8 kB\u001b[0m \u001b[31m13.8 MB/s\u001b[0m eta \u001b[36m0:00:00\u001b[0m\n",
            "\u001b[?25hInstalling collected packages: xxhash, fsspec, dill, multiprocess, datasets\n",
            "  Attempting uninstall: fsspec\n",
            "    Found existing installation: fsspec 2025.3.0\n",
            "    Uninstalling fsspec-2025.3.0:\n",
            "      Successfully uninstalled fsspec-2025.3.0\n",
            "\u001b[31mERROR: pip's dependency resolver does not currently take into account all the packages that are installed. This behaviour is the source of the following dependency conflicts.\n",
            "torch 2.6.0+cu124 requires nvidia-cublas-cu12==12.4.5.8; platform_system == \"Linux\" and platform_machine == \"x86_64\", but you have nvidia-cublas-cu12 12.5.3.2 which is incompatible.\n",
            "torch 2.6.0+cu124 requires nvidia-cuda-cupti-cu12==12.4.127; platform_system == \"Linux\" and platform_machine == \"x86_64\", but you have nvidia-cuda-cupti-cu12 12.5.82 which is incompatible.\n",
            "torch 2.6.0+cu124 requires nvidia-cuda-nvrtc-cu12==12.4.127; platform_system == \"Linux\" and platform_machine == \"x86_64\", but you have nvidia-cuda-nvrtc-cu12 12.5.82 which is incompatible.\n",
            "torch 2.6.0+cu124 requires nvidia-cuda-runtime-cu12==12.4.127; platform_system == \"Linux\" and platform_machine == \"x86_64\", but you have nvidia-cuda-runtime-cu12 12.5.82 which is incompatible.\n",
            "torch 2.6.0+cu124 requires nvidia-cudnn-cu12==9.1.0.70; platform_system == \"Linux\" and platform_machine == \"x86_64\", but you have nvidia-cudnn-cu12 9.3.0.75 which is incompatible.\n",
            "torch 2.6.0+cu124 requires nvidia-cufft-cu12==11.2.1.3; platform_system == \"Linux\" and platform_machine == \"x86_64\", but you have nvidia-cufft-cu12 11.2.3.61 which is incompatible.\n",
            "torch 2.6.0+cu124 requires nvidia-curand-cu12==10.3.5.147; platform_system == \"Linux\" and platform_machine == \"x86_64\", but you have nvidia-curand-cu12 10.3.6.82 which is incompatible.\n",
            "torch 2.6.0+cu124 requires nvidia-cusolver-cu12==11.6.1.9; platform_system == \"Linux\" and platform_machine == \"x86_64\", but you have nvidia-cusolver-cu12 11.6.3.83 which is incompatible.\n",
            "torch 2.6.0+cu124 requires nvidia-cusparse-cu12==12.3.1.170; platform_system == \"Linux\" and platform_machine == \"x86_64\", but you have nvidia-cusparse-cu12 12.5.1.3 which is incompatible.\n",
            "torch 2.6.0+cu124 requires nvidia-nvjitlink-cu12==12.4.127; platform_system == \"Linux\" and platform_machine == \"x86_64\", but you have nvidia-nvjitlink-cu12 12.5.82 which is incompatible.\n",
            "gcsfs 2025.3.0 requires fsspec==2025.3.0, but you have fsspec 2024.12.0 which is incompatible.\u001b[0m\u001b[31m\n",
            "\u001b[0mSuccessfully installed datasets-3.5.0 dill-0.3.8 fsspec-2024.12.0 multiprocess-0.70.16 xxhash-3.5.0\n"
          ]
        }
      ]
    },
    {
      "cell_type": "code",
      "source": [
        "pip install evaluate"
      ],
      "metadata": {
        "colab": {
          "base_uri": "https://localhost:8080/"
        },
        "collapsed": true,
        "id": "IGA2Usg-D3Zc",
        "outputId": "abacdd88-5ee1-418a-a5d2-7bc2edb9e13e"
      },
      "execution_count": 3,
      "outputs": [
        {
          "output_type": "stream",
          "name": "stdout",
          "text": [
            "Collecting evaluate\n",
            "  Downloading evaluate-0.4.3-py3-none-any.whl.metadata (9.2 kB)\n",
            "Requirement already satisfied: datasets>=2.0.0 in /usr/local/lib/python3.11/dist-packages (from evaluate) (3.5.0)\n",
            "Requirement already satisfied: numpy>=1.17 in /usr/local/lib/python3.11/dist-packages (from evaluate) (2.0.2)\n",
            "Requirement already satisfied: dill in /usr/local/lib/python3.11/dist-packages (from evaluate) (0.3.8)\n",
            "Requirement already satisfied: pandas in /usr/local/lib/python3.11/dist-packages (from evaluate) (2.2.2)\n",
            "Requirement already satisfied: requests>=2.19.0 in /usr/local/lib/python3.11/dist-packages (from evaluate) (2.32.3)\n",
            "Requirement already satisfied: tqdm>=4.62.1 in /usr/local/lib/python3.11/dist-packages (from evaluate) (4.67.1)\n",
            "Requirement already satisfied: xxhash in /usr/local/lib/python3.11/dist-packages (from evaluate) (3.5.0)\n",
            "Requirement already satisfied: multiprocess in /usr/local/lib/python3.11/dist-packages (from evaluate) (0.70.16)\n",
            "Requirement already satisfied: fsspec>=2021.05.0 in /usr/local/lib/python3.11/dist-packages (from fsspec[http]>=2021.05.0->evaluate) (2024.12.0)\n",
            "Requirement already satisfied: huggingface-hub>=0.7.0 in /usr/local/lib/python3.11/dist-packages (from evaluate) (0.29.3)\n",
            "Requirement already satisfied: packaging in /usr/local/lib/python3.11/dist-packages (from evaluate) (24.2)\n",
            "Requirement already satisfied: filelock in /usr/local/lib/python3.11/dist-packages (from datasets>=2.0.0->evaluate) (3.18.0)\n",
            "Requirement already satisfied: pyarrow>=15.0.0 in /usr/local/lib/python3.11/dist-packages (from datasets>=2.0.0->evaluate) (18.1.0)\n",
            "Requirement already satisfied: aiohttp in /usr/local/lib/python3.11/dist-packages (from datasets>=2.0.0->evaluate) (3.11.14)\n",
            "Requirement already satisfied: pyyaml>=5.1 in /usr/local/lib/python3.11/dist-packages (from datasets>=2.0.0->evaluate) (6.0.2)\n",
            "Requirement already satisfied: typing-extensions>=3.7.4.3 in /usr/local/lib/python3.11/dist-packages (from huggingface-hub>=0.7.0->evaluate) (4.13.0)\n",
            "Requirement already satisfied: charset-normalizer<4,>=2 in /usr/local/lib/python3.11/dist-packages (from requests>=2.19.0->evaluate) (3.4.1)\n",
            "Requirement already satisfied: idna<4,>=2.5 in /usr/local/lib/python3.11/dist-packages (from requests>=2.19.0->evaluate) (3.10)\n",
            "Requirement already satisfied: urllib3<3,>=1.21.1 in /usr/local/lib/python3.11/dist-packages (from requests>=2.19.0->evaluate) (2.3.0)\n",
            "Requirement already satisfied: certifi>=2017.4.17 in /usr/local/lib/python3.11/dist-packages (from requests>=2.19.0->evaluate) (2025.1.31)\n",
            "Requirement already satisfied: python-dateutil>=2.8.2 in /usr/local/lib/python3.11/dist-packages (from pandas->evaluate) (2.8.2)\n",
            "Requirement already satisfied: pytz>=2020.1 in /usr/local/lib/python3.11/dist-packages (from pandas->evaluate) (2025.2)\n",
            "Requirement already satisfied: tzdata>=2022.7 in /usr/local/lib/python3.11/dist-packages (from pandas->evaluate) (2025.2)\n",
            "Requirement already satisfied: aiohappyeyeballs>=2.3.0 in /usr/local/lib/python3.11/dist-packages (from aiohttp->datasets>=2.0.0->evaluate) (2.6.1)\n",
            "Requirement already satisfied: aiosignal>=1.1.2 in /usr/local/lib/python3.11/dist-packages (from aiohttp->datasets>=2.0.0->evaluate) (1.3.2)\n",
            "Requirement already satisfied: attrs>=17.3.0 in /usr/local/lib/python3.11/dist-packages (from aiohttp->datasets>=2.0.0->evaluate) (25.3.0)\n",
            "Requirement already satisfied: frozenlist>=1.1.1 in /usr/local/lib/python3.11/dist-packages (from aiohttp->datasets>=2.0.0->evaluate) (1.5.0)\n",
            "Requirement already satisfied: multidict<7.0,>=4.5 in /usr/local/lib/python3.11/dist-packages (from aiohttp->datasets>=2.0.0->evaluate) (6.2.0)\n",
            "Requirement already satisfied: propcache>=0.2.0 in /usr/local/lib/python3.11/dist-packages (from aiohttp->datasets>=2.0.0->evaluate) (0.3.1)\n",
            "Requirement already satisfied: yarl<2.0,>=1.17.0 in /usr/local/lib/python3.11/dist-packages (from aiohttp->datasets>=2.0.0->evaluate) (1.18.3)\n",
            "Requirement already satisfied: six>=1.5 in /usr/local/lib/python3.11/dist-packages (from python-dateutil>=2.8.2->pandas->evaluate) (1.17.0)\n",
            "Downloading evaluate-0.4.3-py3-none-any.whl (84 kB)\n",
            "\u001b[2K   \u001b[90m━━━━━━━━━━━━━━━━━━━━━━━━━━━━━━━━━━━━━━━━\u001b[0m \u001b[32m84.0/84.0 kB\u001b[0m \u001b[31m5.1 MB/s\u001b[0m eta \u001b[36m0:00:00\u001b[0m\n",
            "\u001b[?25hInstalling collected packages: evaluate\n",
            "Successfully installed evaluate-0.4.3\n"
          ]
        }
      ]
    },
    {
      "cell_type": "code",
      "source": [
        "pip install --upgrade transformers"
      ],
      "metadata": {
        "colab": {
          "base_uri": "https://localhost:8080/",
          "height": 617
        },
        "collapsed": true,
        "id": "GoL5z6dOgztm",
        "outputId": "cf41ca38-719f-4a71-a9f1-b12b0a8f3cb2"
      },
      "execution_count": 4,
      "outputs": [
        {
          "output_type": "stream",
          "name": "stdout",
          "text": [
            "Requirement already satisfied: transformers in /usr/local/lib/python3.11/dist-packages (4.50.2)\n",
            "Collecting transformers\n",
            "  Downloading transformers-4.50.3-py3-none-any.whl.metadata (39 kB)\n",
            "Requirement already satisfied: filelock in /usr/local/lib/python3.11/dist-packages (from transformers) (3.18.0)\n",
            "Requirement already satisfied: huggingface-hub<1.0,>=0.26.0 in /usr/local/lib/python3.11/dist-packages (from transformers) (0.29.3)\n",
            "Requirement already satisfied: numpy>=1.17 in /usr/local/lib/python3.11/dist-packages (from transformers) (2.0.2)\n",
            "Requirement already satisfied: packaging>=20.0 in /usr/local/lib/python3.11/dist-packages (from transformers) (24.2)\n",
            "Requirement already satisfied: pyyaml>=5.1 in /usr/local/lib/python3.11/dist-packages (from transformers) (6.0.2)\n",
            "Requirement already satisfied: regex!=2019.12.17 in /usr/local/lib/python3.11/dist-packages (from transformers) (2024.11.6)\n",
            "Requirement already satisfied: requests in /usr/local/lib/python3.11/dist-packages (from transformers) (2.32.3)\n",
            "Requirement already satisfied: tokenizers<0.22,>=0.21 in /usr/local/lib/python3.11/dist-packages (from transformers) (0.21.1)\n",
            "Requirement already satisfied: safetensors>=0.4.3 in /usr/local/lib/python3.11/dist-packages (from transformers) (0.5.3)\n",
            "Requirement already satisfied: tqdm>=4.27 in /usr/local/lib/python3.11/dist-packages (from transformers) (4.67.1)\n",
            "Requirement already satisfied: fsspec>=2023.5.0 in /usr/local/lib/python3.11/dist-packages (from huggingface-hub<1.0,>=0.26.0->transformers) (2024.12.0)\n",
            "Requirement already satisfied: typing-extensions>=3.7.4.3 in /usr/local/lib/python3.11/dist-packages (from huggingface-hub<1.0,>=0.26.0->transformers) (4.13.0)\n",
            "Requirement already satisfied: charset-normalizer<4,>=2 in /usr/local/lib/python3.11/dist-packages (from requests->transformers) (3.4.1)\n",
            "Requirement already satisfied: idna<4,>=2.5 in /usr/local/lib/python3.11/dist-packages (from requests->transformers) (3.10)\n",
            "Requirement already satisfied: urllib3<3,>=1.21.1 in /usr/local/lib/python3.11/dist-packages (from requests->transformers) (2.3.0)\n",
            "Requirement already satisfied: certifi>=2017.4.17 in /usr/local/lib/python3.11/dist-packages (from requests->transformers) (2025.1.31)\n",
            "Downloading transformers-4.50.3-py3-none-any.whl (10.2 MB)\n",
            "\u001b[2K   \u001b[90m━━━━━━━━━━━━━━━━━━━━━━━━━━━━━━━━━━━━━━━━\u001b[0m \u001b[32m10.2/10.2 MB\u001b[0m \u001b[31m19.9 MB/s\u001b[0m eta \u001b[36m0:00:00\u001b[0m\n",
            "\u001b[?25hInstalling collected packages: transformers\n",
            "  Attempting uninstall: transformers\n",
            "    Found existing installation: transformers 4.50.2\n",
            "    Uninstalling transformers-4.50.2:\n",
            "      Successfully uninstalled transformers-4.50.2\n",
            "Successfully installed transformers-4.50.3\n"
          ]
        },
        {
          "output_type": "display_data",
          "data": {
            "application/vnd.colab-display-data+json": {
              "pip_warning": {
                "packages": [
                  "transformers"
                ]
              },
              "id": "56c3c59e9df143d39fc919b8db5af251"
            }
          },
          "metadata": {}
        }
      ]
    },
    {
      "cell_type": "code",
      "source": [
        "import numpy as np\n",
        "from transformers import BartForConditionalGeneration, BartTokenizerFast, Trainer, TrainingArguments\n",
        "import evaluate\n",
        "from datasets import load_dataset\n",
        "import os"
      ],
      "metadata": {
        "id": "gV9fbUTDDlLv"
      },
      "execution_count": 1,
      "outputs": []
    },
    {
      "cell_type": "code",
      "execution_count": 17,
      "metadata": {
        "colab": {
          "base_uri": "https://localhost:8080/"
        },
        "id": "83lSxiVqCrZk",
        "outputId": "efe01b7e-d48a-4f65-d872-1a17af5469e1"
      },
      "outputs": [
        {
          "output_type": "stream",
          "name": "stdout",
          "text": [
            "Created small train and test streaming datasets.\n",
            "Small train dataset has 100 examples.\n",
            "Small test dataset has 20 examples.\n",
            "First training example: {'article': 'LONDON, England (Reuters) -- Harry Potter star Daniel Radcliffe gains access to a reported £20 million ($41.1 million) fortune as he turns 18 on Monday, but he insists the money won\\'t cast a spell on him. Daniel Radcliffe as Harry Potter in \"Harry Potter and the Order of the Phoenix\" To the disappointment of gossip columnists around the world, the young actor says he has no plans to fritter his cash away on fast cars, drink and celebrity parties. \"I don\\'t plan to be one of those people who, as soon as they turn 18, suddenly buy themselves a massive sports car collection or something similar,\" he told an Australian interviewer earlier this month. \"I don\\'t think I\\'ll be particularly extravagant. \"The things I like buying are things that cost about 10 pounds -- books and CDs and DVDs.\" At 18, Radcliffe will be able to gamble in a casino, buy a drink in a pub or see the horror film \"Hostel: Part II,\" currently six places below his number one movie on the UK box office chart. Details of how he\\'ll mark his landmark birthday are under wraps. His agent and publicist had no comment on his plans. \"I\\'ll definitely have some sort of party,\" he said in an interview. \"Hopefully none of you will be reading about it.\" Radcliffe\\'s earnings from the first five Potter films have been held in a trust fund which he has not been able to touch. Despite his growing fame and riches, the actor says he is keeping his feet firmly on the ground. \"People are always looking to say \\'kid star goes off the rails,\\'\" he told reporters last month. \"But I try very hard not to go that way because it would be too easy for them.\" His latest outing as the boy wizard in \"Harry Potter and the Order of the Phoenix\" is breaking records on both sides of the Atlantic and he will reprise the role in the last two films.  Watch I-Reporter give her review of Potter\\'s latest » . There is life beyond Potter, however. The Londoner has filmed a TV movie called \"My Boy Jack,\" about author Rudyard Kipling and his son, due for release later this year. He will also appear in \"December Boys,\" an Australian film about four boys who escape an orphanage. Earlier this year, he made his stage debut playing a tortured teenager in Peter Shaffer\\'s \"Equus.\" Meanwhile, he is braced for even closer media scrutiny now that he\\'s legally an adult: \"I just think I\\'m going to be more sort of fair game,\" he told Reuters. E-mail to a friend . Copyright 2007 Reuters. All rights reserved.This material may not be published, broadcast, rewritten, or redistributed.', 'highlights': \"Harry Potter star Daniel Radcliffe gets £20M fortune as he turns 18 Monday .\\nYoung actor says he has no plans to fritter his cash away .\\nRadcliffe's earnings from first five Potter films have been held in trust fund .\", 'id': '42c027e4ff9730fbb3de84c1af0d2c506e41c3e4'}\n"
          ]
        }
      ],
      "source": [
        "dataset = load_dataset(\"cnn_dailymail\", \"3.0.0\", streaming=True)\n",
        "\n",
        "train_stream = dataset[\"train\"]\n",
        "\n",
        "small_train_dataset = train_stream.take(100)\n",
        "small_test_dataset = train_stream.skip(100).take(20)\n",
        "\n",
        "print(\"Created small train and test streaming datasets.\")\n",
        "\n",
        "small_train_list = list(small_train_dataset)\n",
        "small_test_list = list(small_test_dataset)\n",
        "\n",
        "print(f\"Small train dataset has {len(small_train_list)} examples.\")\n",
        "print(f\"Small test dataset has {len(small_test_list)} examples.\")\n",
        "\n",
        "print(\"First training example:\", small_train_list[0])"
      ]
    },
    {
      "cell_type": "code",
      "source": [
        "model_name = \"facebook/bart-base\"\n",
        "tokenizer = BartTokenizerFast.from_pretrained(model_name)\n",
        "model = BartForConditionalGeneration.from_pretrained(model_name)\n",
        "\n",
        "def preprocess_function(examples):\n",
        "    model_inputs = tokenizer(\n",
        "        examples[\"article\"],\n",
        "        max_length=1024,\n",
        "        truncation=True,\n",
        "        text_target=examples[\"highlights\"],\n",
        "        max_target_length=128,\n",
        "        truncation_target=True\n",
        "    )\n",
        "    return model_inputs"
      ],
      "metadata": {
        "id": "yOFo54E3C-5h"
      },
      "execution_count": 18,
      "outputs": []
    },
    {
      "cell_type": "code",
      "source": [
        "train_dataset = small_train_dataset.map(\n",
        "    preprocess_function,\n",
        "    batched=True,\n",
        "    remove_columns=[\"article\", \"highlights\", \"id\"]\n",
        ")\n",
        "test_dataset = small_test_dataset.map(\n",
        "    preprocess_function,\n",
        "    batched=True,\n",
        "    remove_columns=[\"article\", \"highlights\", \"id\"]\n",
        ")"
      ],
      "metadata": {
        "collapsed": true,
        "id": "U7BAQI7REbiI"
      },
      "execution_count": 19,
      "outputs": []
    },
    {
      "cell_type": "code",
      "source": [
        "training_args = TrainingArguments(\n",
        "    output_dir=\"./results\",\n",
        "    run_name=\"my_finetuning_run\",\n",
        "    report_to=[],\n",
        "    evaluation_strategy=\"epoch\",\n",
        "    learning_rate=5e-5,\n",
        "    per_device_train_batch_size=1,\n",
        "    per_device_eval_batch_size=1,\n",
        "    num_train_epochs=3,\n",
        "    weight_decay=0.01,\n",
        "    fp16=True,\n",
        "    dataloader_num_workers=2,\n",
        "    gradient_accumulation_steps=1,\n",
        "    max_steps=100\n",
        ")"
      ],
      "metadata": {
        "collapsed": true,
        "id": "It32GgK_Ko6a",
        "colab": {
          "base_uri": "https://localhost:8080/"
        },
        "outputId": "bdb9619a-0f23-4400-c1f0-0428d770c937"
      },
      "execution_count": 20,
      "outputs": [
        {
          "output_type": "stream",
          "name": "stderr",
          "text": [
            "/usr/local/lib/python3.11/dist-packages/transformers/training_args.py:1611: FutureWarning: `evaluation_strategy` is deprecated and will be removed in version 4.46 of 🤗 Transformers. Use `eval_strategy` instead\n",
            "  warnings.warn(\n"
          ]
        }
      ]
    },
    {
      "cell_type": "code",
      "source": [
        "pip install rouge_score"
      ],
      "metadata": {
        "collapsed": true,
        "colab": {
          "base_uri": "https://localhost:8080/"
        },
        "id": "x1S9vVE4iAei",
        "outputId": "0e05cf15-8b0b-443e-89f0-516f3c891102"
      },
      "execution_count": 12,
      "outputs": [
        {
          "output_type": "stream",
          "name": "stdout",
          "text": [
            "Collecting rouge_score\n",
            "  Downloading rouge_score-0.1.2.tar.gz (17 kB)\n",
            "  Preparing metadata (setup.py) ... \u001b[?25l\u001b[?25hdone\n",
            "Requirement already satisfied: absl-py in /usr/local/lib/python3.11/dist-packages (from rouge_score) (1.4.0)\n",
            "Requirement already satisfied: nltk in /usr/local/lib/python3.11/dist-packages (from rouge_score) (3.9.1)\n",
            "Requirement already satisfied: numpy in /usr/local/lib/python3.11/dist-packages (from rouge_score) (2.0.2)\n",
            "Requirement already satisfied: six>=1.14.0 in /usr/local/lib/python3.11/dist-packages (from rouge_score) (1.17.0)\n",
            "Requirement already satisfied: click in /usr/local/lib/python3.11/dist-packages (from nltk->rouge_score) (8.1.8)\n",
            "Requirement already satisfied: joblib in /usr/local/lib/python3.11/dist-packages (from nltk->rouge_score) (1.4.2)\n",
            "Requirement already satisfied: regex>=2021.8.3 in /usr/local/lib/python3.11/dist-packages (from nltk->rouge_score) (2024.11.6)\n",
            "Requirement already satisfied: tqdm in /usr/local/lib/python3.11/dist-packages (from nltk->rouge_score) (4.67.1)\n",
            "Building wheels for collected packages: rouge_score\n",
            "  Building wheel for rouge_score (setup.py) ... \u001b[?25l\u001b[?25hdone\n",
            "  Created wheel for rouge_score: filename=rouge_score-0.1.2-py3-none-any.whl size=24934 sha256=9e636a3c59ef559b547b269cf2fd31685cf464e1089d44230088b5a968abbff1\n",
            "  Stored in directory: /root/.cache/pip/wheels/1e/19/43/8a442dc83660ca25e163e1bd1f89919284ab0d0c1475475148\n",
            "Successfully built rouge_score\n",
            "Installing collected packages: rouge_score\n",
            "Successfully installed rouge_score-0.1.2\n"
          ]
        }
      ]
    },
    {
      "cell_type": "code",
      "source": [
        "rouge_metric = evaluate.load(\"rouge\")\n",
        "bleu_metric = evaluate.load(\"bleu\")"
      ],
      "metadata": {
        "id": "R1ovGDG_KAiP"
      },
      "execution_count": 21,
      "outputs": []
    },
    {
      "cell_type": "code",
      "source": [
        "def compute_metrics(eval_pred):\n",
        "    predictions, labels = eval_pred\n",
        "    decoded_preds = tokenizer.batch_decode(predictions, skip_special_tokens=True)\n",
        "    labels = np.where(labels != -100, labels, tokenizer.pad_token_id)\n",
        "    decoded_labels = tokenizer.batch_decode(labels, skip_special_tokens=True)\n",
        "\n",
        "    # compute ROUGE scores\n",
        "    rouge_result = rouge_metric.compute(predictions=decoded_preds, references=decoded_labels, use_stemmer=True)\n",
        "\n",
        "    # compute BLEU scores\n",
        "    bleu_result = bleu_metric.compute(\n",
        "        predictions=[pred.split() for pred in decoded_preds],\n",
        "        references=[[ref.split()] for ref in decoded_labels]\n",
        "    )\n",
        "\n",
        "    result = {\n",
        "        \"rouge1\": rouge_result[\"rouge1\"],\n",
        "        \"rouge2\": rouge_result[\"rouge2\"],\n",
        "        \"rougeL\": rouge_result[\"rougeL\"],\n",
        "        \"bleu\": bleu_result[\"bleu\"],\n",
        "    }\n",
        "    return result"
      ],
      "metadata": {
        "id": "_YsateVIEeFc"
      },
      "execution_count": 22,
      "outputs": []
    },
    {
      "cell_type": "code",
      "source": [
        "trainer = Trainer(\n",
        "    model=model,\n",
        "    args=training_args,\n",
        "    train_dataset=train_dataset,\n",
        "    eval_dataset=test_dataset,\n",
        "    compute_metrics=compute_metrics,\n",
        ")\n",
        "\n",
        "trainer.train()"
      ],
      "metadata": {
        "id": "kzD_2YTPEjBZ"
      },
      "execution_count": null,
      "outputs": []
    },
    {
      "cell_type": "markdown",
      "source": [
        "No matter what I did for task one (decreasing dataset size, different batch sizes and techniques, turning on streaming for loading the dataset) Google Colab ran out of RAM on CPU or ran out of memory when ran on the GPU. I spent so much time trying to get this to work on Colab but I just couldn't get it to finish without running out of memory. Because of this, I obviously don't have results to discuss, so I am going to discuss my understanding of the impact of the hyperperameters and the choice of LLM.\n",
        "\n",
        "The learning rate dictates how quickly the model adjusts its weights during training. A high learning rate may lead to rapid convergence but risks overshooting the minima, resulting in instability or divergence. Conversely, a too-low learning rate can slow down convergence, potentially trapping the model in local minima.\n",
        "\n",
        "The batch size influences the gradient estimation during optimization. Larger batches provide a more stable and representative gradient, reducing variance but potentially leading to less frequent updates, which might affect generalization. Smaller batches introduce more noise, which can sometimes help the model escape shallow local minima and improve generalization.\n",
        "\n",
        "Regularization techniques are essential to avoid overfitting. They help the model generalize better on unseen data by penalizing complexity. For instance, dropout randomly deactivates a subset of neurons during training, which forces the model to develop redundant representations and reduces reliance on any single pathway.\n",
        "\n",
        "Number of Layers and hidden units determine the capacity of the model. A deeper or wider network can capture more complex patterns but also increases the risk of overfitting and computational costs.\n",
        "\n",
        "The choice of LLM inherently influences the outcomes in several ways. Different LLMs are pretrained on various datasets and may have different objectives during pretraining. This means that the model’s internal representations and understanding of language can vary significantly, affecting performance on downstream tasks. In adition, LLMs come with built-in assumptions based on their architecture. For example, transformer-based models are excellent at capturing long-range dependencies, which might be beneficial for certain tasks, while other architectures may have different strengths and limitations. An LLM’s performance in a specific task can also depend on how well it adapts during fine-tuning. Some models might be more robust or easier to fine-tune, which could lead to better performance."
      ],
      "metadata": {
        "id": "qJHGOtUI_-rK"
      }
    },
    {
      "cell_type": "markdown",
      "source": [
        "#Task 2"
      ],
      "metadata": {
        "id": "nHqDowgjMfEO"
      }
    },
    {
      "cell_type": "markdown",
      "source": [
        "A real-world application that can be formulated as a Markov Decision Process is autonomous driving. In this setting, an autonomous vehicle must make a series of decisions like accelerating, braking, turning, etc. to safely and efficiently navigate through traffic and reach its destination.\n",
        "\n",
        "The state space includes all the relevant information about the car and its environment at a given time. This includes the car’s position and velocity, nearby obstacles or vehicles, lane markings, traffic light status, and road conditions. The action space consists of the possible maneuvers the car can perform such as changing lanes, accelerating, decelerating, or making turns. The transition model defines how the car’s actions change its state over time like accelerating increases speed, while turning changes direction. These transitions can also depend on stochastic elements like the behavior of other drivers or sudden changes in the environment. The reward function reflects the desirability of outcomes. For example, the agent may receive positive rewards for staying in the correct lane, obeying traffic laws, and progressing toward the destination, and negative rewards for unsafe maneuvers, collisions, or going off-road.\n",
        "\n",
        "This formulation allows the problem of autonomous driving to be approached as an optimization task, where the agent learns a policy that maximizes cumulative reward, leading to safe and efficient driving behavior over time."
      ],
      "metadata": {
        "id": "W3cNWpMjMh-F"
      }
    },
    {
      "cell_type": "markdown",
      "source": [
        "#Task 3"
      ],
      "metadata": {
        "id": "yfNK1VsYOmDn"
      }
    },
    {
      "cell_type": "markdown",
      "source": [
        "Problem: Treatment Policy Optimization for Sepsis in ICU\n",
        "\n",
        "Managing sepsis is a complex decision-making problem. Physicians must continuously decide on medication dosages, like vasopressors and IV fluids, based on the evolving state of the patient. The challenge lies in accounting for long-term effects of treatment—some interventions may help in the short term but harm the patient later. Traditional supervised learning methods struggle with this sequential, decision-dependent nature of the problem. Reinforcement learning, on the other hand, can model these treatment decisions as a sequential decision-making process and learn an optimal policy that improves patient outcomes over time.\n",
        "\n",
        "State space: Includes patient vitals, lab results, and history of interventions—such as heart rate, blood pressure, white blood cell count, and administered medications.\n",
        "\n",
        "Action space: Consists of discrete combinations of medical interventions, like different dosages of vasopressors and IV fluids.\n",
        "\n",
        "Rewards: The agent is rewarded for positive patient outcome, like survival and stability in vitals, and penalized for adverse outcomes or complications.\n",
        "\n",
        ".\n",
        "\n",
        "**Open-Source Project:** “Deep Reinforcement Learning for Sepsis Treatment”\n",
        "\n",
        "One of the most well-known projects in this area is by researchers at MIT and Harvard. It is publicly available on GitHub at https://github.com/matthieukomorowski/AI_Clinician and uses the MIMIC-III dataset—a rich database of de-identified ICU patient records.\n",
        "\n",
        "The objective of the project is to train a reinforcement learning agent to recommend treatment policies for sepsis patients in the ICU. The researchers modeled the problem as an MDP where the agent observes patient state (from historical records) and recommends actions (drug dosages). The model used fitted Q-iteration to learn the optimal policy offline from historical data. Patient states were clustered into a discrete space using k-means, and actions were discretized combinations of IV fluid and vasopressor dosages. The learned policy was then compared with actual clinician decisions. The RL agent’s treatment policy, in many cases, aligned with best-practice care but also suggested more conservative medication use in some situations. When evaluated retrospectively, patients who received treatments closer to the AI’s policy showed improved outcomes. This project demonstrated that reinforcement learning could potentially assist or augment clinical decision-making. While it’s not used in production due to ethical and safety concerns, it remains a significant step toward intelligent clinical decision support systems."
      ],
      "metadata": {
        "id": "aDOqYvRSOc23"
      }
    },
    {
      "cell_type": "markdown",
      "source": [
        "#Task 4"
      ],
      "metadata": {
        "id": "_kLHdaSnP7Pv"
      }
    },
    {
      "cell_type": "code",
      "source": [
        "import random"
      ],
      "metadata": {
        "id": "pCY5lsexP4-C"
      },
      "execution_count": null,
      "outputs": []
    },
    {
      "cell_type": "code",
      "source": [
        "class TicTacToe:\n",
        "    def __init__(self):\n",
        "        self.board = [' ' for _ in range(9)]\n",
        "        self.current_winner = None\n",
        "\n",
        "    def reset(self):\n",
        "        self.board = [' ' for _ in range(9)]\n",
        "        self.current_winner = None\n",
        "        return self.get_state()\n",
        "\n",
        "    def get_state(self):\n",
        "        return tuple(self.board)\n",
        "\n",
        "    def available_moves(self):\n",
        "        return [i for i, spot in enumerate(self.board) if spot == ' ']\n",
        "\n",
        "    def make_move(self, square, letter):\n",
        "        if self.board[square] == ' ':\n",
        "            self.board[square] = letter\n",
        "            if self.winner(square, letter):\n",
        "                self.current_winner = letter\n",
        "            return True\n",
        "        return False\n",
        "\n",
        "    def winner(self, square, letter):\n",
        "        row_ind = square // 3\n",
        "        row = self.board[row_ind*3:(row_ind+1)*3]\n",
        "        if all([s == letter for s in row]):\n",
        "            return True\n",
        "        col_ind = square % 3\n",
        "        column = [self.board[col_ind+i*3] for i in range(3)]\n",
        "        if all([s == letter for s in column]):\n",
        "            return True\n",
        "        if square % 2 == 0:\n",
        "            diagonal1 = [self.board[i] for i in [0, 4, 8]]\n",
        "            if all([s == letter for s in diagonal1]):\n",
        "                return True\n",
        "            diagonal2 = [self.board[i] for i in [2, 4, 6]]\n",
        "            if all([s == letter for s in diagonal2]):\n",
        "                return True\n",
        "        return False\n",
        "\n",
        "    def is_draw(self):\n",
        "        return ' ' not in self.board and self.current_winner is None\n",
        "\n",
        "    def render(self):\n",
        "        for i in range(3):\n",
        "            print('| ' + ' | '.join(self.board[i*3:(i+1)*3]) + ' |')"
      ],
      "metadata": {
        "id": "-uDDz9x4TDHV"
      },
      "execution_count": null,
      "outputs": []
    },
    {
      "cell_type": "code",
      "source": [
        "class QLearningAgent:\n",
        "    def __init__(self, letter, alpha=0.5, gamma=0.9, epsilon=0.2):\n",
        "        self.letter = letter\n",
        "        self.alpha = alpha\n",
        "        self.gamma = gamma\n",
        "        self.epsilon = epsilon\n",
        "        self.q = {}\n",
        "\n",
        "    def get_q(self, state, action):\n",
        "        return self.q.get((state, action), 0.0)\n",
        "\n",
        "    def choose_action(self, state, available_moves):\n",
        "        if random.random() < self.epsilon:\n",
        "            return random.choice(available_moves)\n",
        "        qs = [self.get_q(state, a) for a in available_moves]\n",
        "        max_q = max(qs)\n",
        "        max_actions = [a for a, q in zip(available_moves, qs) if q == max_q]\n",
        "        return random.choice(max_actions)\n",
        "\n",
        "    def update(self, state, action, reward, next_state, next_available_moves, done):\n",
        "        max_q_next = 0.0\n",
        "        if not done and next_available_moves:\n",
        "            qs_next = [self.get_q(next_state, a) for a in next_available_moves]\n",
        "            max_q_next = max(qs_next)\n",
        "        old_q = self.get_q(state, action)\n",
        "        new_q = old_q + self.alpha * (reward + self.gamma * max_q_next - old_q)\n",
        "        self.q[(state, action)] = new_q"
      ],
      "metadata": {
        "id": "rINp5US1TH77"
      },
      "execution_count": null,
      "outputs": []
    },
    {
      "cell_type": "code",
      "source": [
        "class RandomAgent:\n",
        "    def __init__(self, letter):\n",
        "        self.letter = letter\n",
        "\n",
        "    def choose_action(self, state, available_moves):\n",
        "        return random.choice(available_moves)"
      ],
      "metadata": {
        "id": "oDvJPuE0TX4C"
      },
      "execution_count": null,
      "outputs": []
    },
    {
      "cell_type": "code",
      "source": [
        "def play_game(agent_x, agent_o, env, training=True):\n",
        "    state = env.reset()\n",
        "    current_agent = agent_x\n",
        "    while True:\n",
        "        available = env.available_moves()\n",
        "        action = current_agent.choose_action(state, available)\n",
        "        env.make_move(action, current_agent.letter)\n",
        "        next_state = env.get_state()\n",
        "        available_next = env.available_moves()\n",
        "        if env.current_winner == current_agent.letter:\n",
        "            reward = 1 if current_agent.letter == 'X' else -1\n",
        "            if training and isinstance(current_agent, QLearningAgent):\n",
        "                current_agent.update(state, action, reward, next_state, available_next, True)\n",
        "            return current_agent.letter\n",
        "        elif env.is_draw():\n",
        "            if training and isinstance(current_agent, QLearningAgent):\n",
        "                current_agent.update(state, action, 0, next_state, available_next, True)\n",
        "            return 'Draw'\n",
        "        if training and isinstance(current_agent, QLearningAgent):\n",
        "            current_agent.update(state, action, 0, next_state, available_next, False)\n",
        "        state = next_state\n",
        "        current_agent = agent_o if current_agent == agent_x else agent_x"
      ],
      "metadata": {
        "id": "GKdpQoBHTaI4"
      },
      "execution_count": null,
      "outputs": []
    },
    {
      "cell_type": "code",
      "source": [
        "def simulate_games(num_games, agent_x, agent_o, env, training=True):\n",
        "    results = {'X': 0, 'O': 0, 'Draw': 0}\n",
        "    for _ in range(num_games):\n",
        "        result = play_game(agent_x, agent_o, env, training)\n",
        "        results[result] += 1\n",
        "    return results"
      ],
      "metadata": {
        "id": "rdfnx8PJTf2z"
      },
      "execution_count": null,
      "outputs": []
    },
    {
      "cell_type": "code",
      "source": [
        "env = TicTacToe()\n",
        "q_agent = QLearningAgent(letter='X', epsilon=0.2)\n",
        "random_agent = RandomAgent(letter='O')\n",
        "\n",
        "num_training_games = 100000\n",
        "train_results = simulate_games(num_training_games, q_agent, random_agent, env, training=True)\n",
        "print(\"Training results over {} games:\".format(num_training_games))\n",
        "print(train_results)"
      ],
      "metadata": {
        "colab": {
          "base_uri": "https://localhost:8080/"
        },
        "id": "cF6m8eRbTjG2",
        "outputId": "1dd6796e-6346-4f07-8199-dfb81c06c4b2"
      },
      "execution_count": null,
      "outputs": [
        {
          "output_type": "stream",
          "name": "stdout",
          "text": [
            "Training results over 100000 games:\n",
            "{'X': 77381, 'O': 14968, 'Draw': 7651}\n"
          ]
        }
      ]
    },
    {
      "cell_type": "code",
      "source": [
        "q_agent.epsilon = 0.0\n",
        "num_eval_games = 1000\n",
        "eval_results = simulate_games(num_eval_games, q_agent, random_agent, env, training=False)\n",
        "print(\"\\nEvaluation results over {} games:\".format(num_eval_games))\n",
        "print(eval_results)"
      ],
      "metadata": {
        "colab": {
          "base_uri": "https://localhost:8080/"
        },
        "id": "eTxCsYZ-TnFR",
        "outputId": "d3028d67-41cf-4a02-a6e0-206245a3e429"
      },
      "execution_count": null,
      "outputs": [
        {
          "output_type": "stream",
          "name": "stdout",
          "text": [
            "\n",
            "Evaluation results over 1000 games:\n",
            "{'X': 816, 'O': 127, 'Draw': 57}\n"
          ]
        }
      ]
    },
    {
      "cell_type": "code",
      "source": [
        "print(\"\\nDemonstration games:\")\n",
        "for _ in range(3):\n",
        "    env.reset()\n",
        "    state = env.get_state()\n",
        "    current_agent = q_agent  # 'X' starts\n",
        "    while True:\n",
        "        available = env.available_moves()\n",
        "        action = current_agent.choose_action(state, available)\n",
        "        env.make_move(action, current_agent.letter)\n",
        "        state = env.get_state()\n",
        "        if env.current_winner or env.is_draw():\n",
        "            env.render()\n",
        "            if env.current_winner:\n",
        "                print(\"Result: Winner is\", env.current_winner)\n",
        "            else:\n",
        "                print(\"Result: Draw\")\n",
        "            print(\"--------------------\")\n",
        "            break\n",
        "        current_agent = random_agent if current_agent == q_agent else q_agent"
      ],
      "metadata": {
        "colab": {
          "base_uri": "https://localhost:8080/"
        },
        "id": "MXfqTlAbTtrB",
        "outputId": "755857d2-1f1f-4869-d89d-af0295e181e4"
      },
      "execution_count": null,
      "outputs": [
        {
          "output_type": "stream",
          "name": "stdout",
          "text": [
            "\n",
            "Demonstration games:\n",
            "|   |   | X |\n",
            "| O | X |   |\n",
            "| X |   | O |\n",
            "Result: Winner is X\n",
            "--------------------\n",
            "| X |   |   |\n",
            "| X | O |   |\n",
            "| X | O |   |\n",
            "Result: Winner is X\n",
            "--------------------\n",
            "|   |   | O |\n",
            "|   |   | O |\n",
            "| X | X | X |\n",
            "Result: Winner is X\n",
            "--------------------\n"
          ]
        }
      ]
    },
    {
      "cell_type": "markdown",
      "source": [
        "The game state is defined as a tuple representing the 9 board positions (each can be 'X', 'O', or ' '). The actions are the indices (0–8) corresponding to the available empty squares on the board. When an agent takes an action, the environment updates the board accordingly and checks for terminal conditions (win or draw). Although the transitions are deterministic (given a move, the board updates in a fixed way), the opponent’s moves introduce uncertainty. The agent receives a reward of +1 for winning, –1 for losing, and 0 for draws or intermediate steps.\n",
        "\n",
        "My evaluation metric is the win rate of the Q‑learning agent when playing as “X” against a random agent. After training, epsilon is ser to 0 and then the agent is evaluated over 1,000 games, recording the number of wins, losses, and draws. The expectation is that as training progresses, the win rate will improve, reflecting a more effective policy."
      ],
      "metadata": {
        "id": "XZAuosbHUHKj"
      }
    },
    {
      "cell_type": "markdown",
      "source": [
        "#Task 5"
      ],
      "metadata": {
        "id": "0NrD_NoGUpKh"
      }
    },
    {
      "cell_type": "code",
      "source": [
        "pip install numpy==1.24.0"
      ],
      "metadata": {
        "colab": {
          "base_uri": "https://localhost:8080/",
          "height": 510
        },
        "collapsed": true,
        "id": "yTwaIdoRDqtH",
        "outputId": "42508c3b-4eec-4cfe-f092-53cfaeef4206"
      },
      "execution_count": 5,
      "outputs": [
        {
          "output_type": "stream",
          "name": "stdout",
          "text": [
            "Collecting numpy==1.24.0\n",
            "  Using cached numpy-1.24.0-cp311-cp311-manylinux_2_17_x86_64.manylinux2014_x86_64.whl.metadata (5.6 kB)\n",
            "Using cached numpy-1.24.0-cp311-cp311-manylinux_2_17_x86_64.manylinux2014_x86_64.whl (17.3 MB)\n",
            "Installing collected packages: numpy\n",
            "  Attempting uninstall: numpy\n",
            "    Found existing installation: numpy 2.2.4\n",
            "    Uninstalling numpy-2.2.4:\n",
            "      Successfully uninstalled numpy-2.2.4\n",
            "\u001b[31mERROR: pip's dependency resolver does not currently take into account all the packages that are installed. This behaviour is the source of the following dependency conflicts.\n",
            "treescope 0.1.9 requires numpy>=1.25.2, but you have numpy 1.24.0 which is incompatible.\n",
            "chex 0.1.89 requires numpy>=1.24.1, but you have numpy 1.24.0 which is incompatible.\n",
            "seaborn 0.13.2 requires numpy!=1.24.0,>=1.20, but you have numpy 1.24.0 which is incompatible.\n",
            "pymc 5.21.1 requires numpy>=1.25.0, but you have numpy 1.24.0 which is incompatible.\n",
            "albumentations 2.0.5 requires numpy>=1.24.4, but you have numpy 1.24.0 which is incompatible.\n",
            "blosc2 3.2.1 requires numpy>=1.26, but you have numpy 1.24.0 which is incompatible.\n",
            "albucore 0.0.23 requires numpy>=1.24.4, but you have numpy 1.24.0 which is incompatible.\n",
            "jax 0.5.2 requires numpy>=1.25, but you have numpy 1.24.0 which is incompatible.\n",
            "imbalanced-learn 0.13.0 requires numpy<3,>=1.24.3, but you have numpy 1.24.0 which is incompatible.\n",
            "tensorflow 2.18.0 requires numpy<2.1.0,>=1.26.0, but you have numpy 1.24.0 which is incompatible.\n",
            "jaxlib 0.5.1 requires numpy>=1.25, but you have numpy 1.24.0 which is incompatible.\u001b[0m\u001b[31m\n",
            "\u001b[0mSuccessfully installed numpy-1.24.0\n"
          ]
        },
        {
          "output_type": "display_data",
          "data": {
            "application/vnd.colab-display-data+json": {
              "pip_warning": {
                "packages": [
                  "numpy"
                ]
              },
              "id": "088d19d220d84063bb810f0f28663ce2"
            }
          },
          "metadata": {}
        }
      ]
    },
    {
      "cell_type": "code",
      "source": [
        "pip install --force-reinstall scikit-surprise"
      ],
      "metadata": {
        "colab": {
          "base_uri": "https://localhost:8080/"
        },
        "collapsed": true,
        "id": "lAnBWf2XCnsT",
        "outputId": "55d04b5e-69b4-4c4e-b310-5ad56d57593b"
      },
      "execution_count": 1,
      "outputs": [
        {
          "output_type": "stream",
          "name": "stdout",
          "text": [
            "Collecting scikit-surprise\n",
            "  Using cached scikit_surprise-1.1.4-cp311-cp311-linux_x86_64.whl\n",
            "Collecting joblib>=1.2.0 (from scikit-surprise)\n",
            "  Downloading joblib-1.4.2-py3-none-any.whl.metadata (5.4 kB)\n",
            "Collecting numpy>=1.19.5 (from scikit-surprise)\n",
            "  Downloading numpy-2.2.4-cp311-cp311-manylinux_2_17_x86_64.manylinux2014_x86_64.whl.metadata (62 kB)\n",
            "\u001b[2K     \u001b[90m━━━━━━━━━━━━━━━━━━━━━━━━━━━━━━━━━━━━━━━━\u001b[0m \u001b[32m62.0/62.0 kB\u001b[0m \u001b[31m4.0 MB/s\u001b[0m eta \u001b[36m0:00:00\u001b[0m\n",
            "\u001b[?25hCollecting scipy>=1.6.0 (from scikit-surprise)\n",
            "  Downloading scipy-1.15.2-cp311-cp311-manylinux_2_17_x86_64.manylinux2014_x86_64.whl.metadata (61 kB)\n",
            "\u001b[2K     \u001b[90m━━━━━━━━━━━━━━━━━━━━━━━━━━━━━━━━━━━━━━━━\u001b[0m \u001b[32m62.0/62.0 kB\u001b[0m \u001b[31m5.1 MB/s\u001b[0m eta \u001b[36m0:00:00\u001b[0m\n",
            "\u001b[?25hDownloading joblib-1.4.2-py3-none-any.whl (301 kB)\n",
            "\u001b[2K   \u001b[90m━━━━━━━━━━━━━━━━━━━━━━━━━━━━━━━━━━━━━━━━\u001b[0m \u001b[32m301.8/301.8 kB\u001b[0m \u001b[31m17.1 MB/s\u001b[0m eta \u001b[36m0:00:00\u001b[0m\n",
            "\u001b[?25hDownloading numpy-2.2.4-cp311-cp311-manylinux_2_17_x86_64.manylinux2014_x86_64.whl (16.4 MB)\n",
            "\u001b[2K   \u001b[90m━━━━━━━━━━━━━━━━━━━━━━━━━━━━━━━━━━━━━━━━\u001b[0m \u001b[32m16.4/16.4 MB\u001b[0m \u001b[31m86.0 MB/s\u001b[0m eta \u001b[36m0:00:00\u001b[0m\n",
            "\u001b[?25hDownloading scipy-1.15.2-cp311-cp311-manylinux_2_17_x86_64.manylinux2014_x86_64.whl (37.6 MB)\n",
            "\u001b[2K   \u001b[90m━━━━━━━━━━━━━━━━━━━━━━━━━━━━━━━━━━━━━━━━\u001b[0m \u001b[32m37.6/37.6 MB\u001b[0m \u001b[31m17.1 MB/s\u001b[0m eta \u001b[36m0:00:00\u001b[0m\n",
            "\u001b[?25hInstalling collected packages: numpy, joblib, scipy, scikit-surprise\n",
            "  Attempting uninstall: numpy\n",
            "    Found existing installation: numpy 1.24.0\n",
            "    Uninstalling numpy-1.24.0:\n",
            "      Successfully uninstalled numpy-1.24.0\n",
            "  Attempting uninstall: joblib\n",
            "    Found existing installation: joblib 1.4.2\n",
            "    Uninstalling joblib-1.4.2:\n",
            "      Successfully uninstalled joblib-1.4.2\n",
            "  Attempting uninstall: scipy\n",
            "    Found existing installation: scipy 1.14.1\n",
            "    Uninstalling scipy-1.14.1:\n",
            "      Successfully uninstalled scipy-1.14.1\n",
            "  Attempting uninstall: scikit-surprise\n",
            "    Found existing installation: scikit-surprise 1.1.4\n",
            "    Uninstalling scikit-surprise-1.1.4:\n",
            "      Successfully uninstalled scikit-surprise-1.1.4\n",
            "\u001b[31mERROR: pip's dependency resolver does not currently take into account all the packages that are installed. This behaviour is the source of the following dependency conflicts.\n",
            "numba 0.60.0 requires numpy<2.1,>=1.22, but you have numpy 2.2.4 which is incompatible.\n",
            "tensorflow 2.18.0 requires numpy<2.1.0,>=1.26.0, but you have numpy 2.2.4 which is incompatible.\u001b[0m\u001b[31m\n",
            "\u001b[0mSuccessfully installed joblib-1.4.2 numpy-2.2.4 scikit-surprise-1.1.4 scipy-1.15.2\n"
          ]
        }
      ]
    },
    {
      "cell_type": "code",
      "source": [
        "import numpy as np\n",
        "if not hasattr(np, 'bool'):\n",
        "    np.bool = bool\n",
        "import pandas as pd\n",
        "import matplotlib.pyplot as plt\n",
        "import seaborn as sns\n",
        "from scipy.sparse import csr_matrix\n",
        "from numpy.linalg import solve\n",
        "from sklearn.metrics import mean_squared_error, mean_absolute_error\n",
        "from math import sqrt\n",
        "import random\n",
        "\n",
        "from surprise import Dataset, Reader, SVD\n",
        "from surprise.model_selection import train_test_split\n",
        "from surprise import accuracy"
      ],
      "metadata": {
        "id": "gfmgQpU2UAKD",
        "colab": {
          "base_uri": "https://localhost:8080/"
        },
        "outputId": "7b35adde-8ea5-4b04-a5d1-385bdb2be207"
      },
      "execution_count": 1,
      "outputs": [
        {
          "output_type": "stream",
          "name": "stderr",
          "text": [
            "<ipython-input-1-840c1747fff6>:2: FutureWarning: In the future `np.bool` will be defined as the corresponding NumPy scalar.  (This may have returned Python scalars in past versions.\n",
            "  if not hasattr(np, 'bool'):\n"
          ]
        }
      ]
    },
    {
      "cell_type": "code",
      "source": [
        "data_path = \"ml-100k/u.data\"\n",
        "column_names = [\"user_id\", \"item_id\", \"rating\", \"timestamp\"]\n",
        "df = pd.read_csv(data_path, sep='\\t', names=column_names)\n",
        "\n",
        "df['user_id'] = df['user_id'].astype(int)\n",
        "df['item_id'] = df['item_id'].astype(int)\n",
        "df['rating'] = df['rating'].astype(float)\n",
        "df.drop(\"timestamp\", axis=1, inplace=True)\n",
        "\n",
        "print(\"Data head:\")\n",
        "print(df.head())"
      ],
      "metadata": {
        "colab": {
          "base_uri": "https://localhost:8080/"
        },
        "id": "VEbZmKXiCaeO",
        "outputId": "733efa28-d06b-4af4-bc69-588e7f391ba1"
      },
      "execution_count": 4,
      "outputs": [
        {
          "output_type": "stream",
          "name": "stdout",
          "text": [
            "Data head:\n",
            "   user_id  item_id  rating\n",
            "0      196      242     3.0\n",
            "1      186      302     3.0\n",
            "2       22      377     1.0\n",
            "3      244       51     2.0\n",
            "4      166      346     1.0\n"
          ]
        }
      ]
    },
    {
      "cell_type": "code",
      "source": [
        "plt.figure(figsize=(6,4))\n",
        "sns.countplot(x='rating', data=df, palette='viridis')\n",
        "plt.title(\"Distribution of Ratings\")\n",
        "plt.xlabel(\"Rating\")\n",
        "plt.ylabel(\"Count\")\n",
        "plt.show()\n",
        "\n",
        "ratings_per_user = df.groupby('user_id').size()\n",
        "plt.figure(figsize=(6,4))\n",
        "sns.histplot(ratings_per_user, bins=30, kde=False, color='coral')\n",
        "plt.title(\"Number of Ratings per User\")\n",
        "plt.xlabel(\"Number of Ratings\")\n",
        "plt.ylabel(\"Number of Users\")\n",
        "plt.show()\n",
        "\n",
        "ratings_per_movie = df.groupby('item_id').size()\n",
        "plt.figure(figsize=(6,4))\n",
        "sns.histplot(ratings_per_movie, bins=30, kde=False, color='teal')\n",
        "plt.title(\"Number of Ratings per Movie\")\n",
        "plt.xlabel(\"Number of Ratings\")\n",
        "plt.ylabel(\"Number of Movies\")\n",
        "plt.show()"
      ],
      "metadata": {
        "colab": {
          "base_uri": "https://localhost:8080/",
          "height": 1000
        },
        "id": "iCU0ccAZElG6",
        "outputId": "01648389-8cdf-42dd-83a4-65b78ca299f3"
      },
      "execution_count": 5,
      "outputs": [
        {
          "output_type": "stream",
          "name": "stderr",
          "text": [
            "<ipython-input-5-79c4450cd730>:2: FutureWarning: \n",
            "\n",
            "Passing `palette` without assigning `hue` is deprecated and will be removed in v0.14.0. Assign the `x` variable to `hue` and set `legend=False` for the same effect.\n",
            "\n",
            "  sns.countplot(x='rating', data=df, palette='viridis')\n"
          ]
        },
        {
          "output_type": "display_data",
          "data": {
            "text/plain": [
              "<Figure size 600x400 with 1 Axes>"
            ],
            "image/png": "[encoded data removed]"
          },
          "metadata": {}
        },
        {
          "output_type": "display_data",
          "data": {
            "text/plain": [
              "<Figure size 600x400 with 1 Axes>"
            ],
            "image/png": "[encoded data removed]"
          },
          "metadata": {}
        },
        {
          "output_type": "display_data",
          "data": {
            "text/plain": [
              "<Figure size 600x400 with 1 Axes>"
            ],
            "image/png": "[encoded data removed]"
          },
          "metadata": {}
        }
      ]
    },
    {
      "cell_type": "code",
      "source": [
        "user_item_matrix = df.pivot(index='user_id', columns='item_id', values='rating')\n",
        "print(\"User-Item Matrix shape:\", user_item_matrix.shape)"
      ],
      "metadata": {
        "colab": {
          "base_uri": "https://localhost:8080/"
        },
        "id": "YqIumKQiFN2t",
        "outputId": "92281024-9479-4453-c652-ff70fb72cfaf"
      },
      "execution_count": 6,
      "outputs": [
        {
          "output_type": "stream",
          "name": "stdout",
          "text": [
            "User-Item Matrix shape: (943, 1682)\n"
          ]
        }
      ]
    },
    {
      "cell_type": "code",
      "source": [
        "reader = Reader(rating_scale=(1, 5))\n",
        "data = Dataset.load_from_df(df[['user_id', 'item_id', 'rating']], reader)\n",
        "trainset, testset = train_test_split(data, test_size=0.2, random_state=42)\n",
        "\n",
        "svd_model = SVD(random_state=42)\n",
        "svd_model.fit(trainset)\n",
        "\n",
        "predictions = svd_model.test(testset)\n",
        "\n",
        "svd_rmse = accuracy.rmse(predictions, verbose=False)\n",
        "svd_mae = accuracy.mae(predictions, verbose=False)\n",
        "\n",
        "print(f\"SVD Model -> RMSE: {svd_rmse:.4f}, MAE: {svd_mae:.4f}\")"
      ],
      "metadata": {
        "colab": {
          "base_uri": "https://localhost:8080/"
        },
        "id": "Oyr5HwDuFSy3",
        "outputId": "bd7b3279-b612-473d-bd97-98713d0307ae"
      },
      "execution_count": 11,
      "outputs": [
        {
          "output_type": "stream",
          "name": "stdout",
          "text": [
            "SVD Model -> RMSE: 0.9352, MAE: 0.7375\n"
          ]
        }
      ]
    },
    {
      "cell_type": "code",
      "source": [
        "R = user_item_matrix.fillna(0).values\n",
        "num_users, num_items = R.shape\n",
        "\n",
        "num_factors = 20\n",
        "reg = 0.1\n",
        "num_iters = 15\n",
        "\n",
        "U = np.random.normal(scale=1./num_factors, size=(num_users, num_factors))\n",
        "V = np.random.normal(scale=1./num_factors, size=(num_items, num_factors))"
      ],
      "metadata": {
        "id": "TcUl33KYFW3e"
      },
      "execution_count": 12,
      "outputs": []
    },
    {
      "cell_type": "code",
      "source": [
        "def als_train(R, U, V, reg, num_iters):\n",
        "    num_users, num_items = R.shape\n",
        "    for it in range(num_iters):\n",
        "        for u in range(num_users):\n",
        "            idx = R[u, :] > 0\n",
        "            V_i = V[idx, :]\n",
        "            R_u = R[u, idx]\n",
        "            if V_i.shape[0] == 0:\n",
        "                continue\n",
        "            A = V_i.T.dot(V_i) + reg * np.eye(num_factors)\n",
        "            b = V_i.T.dot(R_u)\n",
        "            U[u, :] = solve(A, b)\n",
        "\n",
        "        for i in range(num_items):\n",
        "            idx = R[:, i] > 0\n",
        "            U_u = U[idx, :]\n",
        "            R_i = R[idx, i]\n",
        "            if U_u.shape[0] == 0:\n",
        "                continue\n",
        "            A = U_u.T.dot(U_u) + reg * np.eye(num_factors)\n",
        "            b = U_u.T.dot(R_i)\n",
        "            V[i, :] = solve(A, b)\n",
        "        pred = U.dot(V.T)\n",
        "        mse = np.sum(((R - pred)[R > 0])**2) / np.sum(R > 0)\n",
        "        print(f\"Iteration {it+1}/{num_iters}, MSE: {mse:.4f}\")\n",
        "    return U, V"
      ],
      "metadata": {
        "id": "NgNdmnTGFgvB"
      },
      "execution_count": 13,
      "outputs": []
    },
    {
      "cell_type": "code",
      "source": [
        "def train_test_split_matrix(R, test_ratio=0.2):\n",
        "    R_train = R.copy()\n",
        "    test_data = []\n",
        "    observed = np.argwhere(R > 0)\n",
        "    n_test = int(len(observed) * test_ratio)\n",
        "    test_indices = observed[np.random.choice(len(observed), size=n_test, replace=False)]\n",
        "\n",
        "    for u, i in test_indices:\n",
        "        test_data.append((u, i, R[u, i]))\n",
        "        R_train[u, i] = 0\n",
        "    return R_train, test_data"
      ],
      "metadata": {
        "id": "7b4_01dSFjxI"
      },
      "execution_count": 14,
      "outputs": []
    },
    {
      "cell_type": "code",
      "source": [
        "R_train, test_data = train_test_split_matrix(R, test_ratio=0.2)\n",
        "\n",
        "U = np.random.normal(scale=1./num_factors, size=(num_users, num_factors))\n",
        "V = np.random.normal(scale=1./num_factors, size=(num_items, num_factors))\n",
        "\n",
        "print(\"\\nTraining ALS model:\")\n",
        "U, V = als_train(R_train, U, V, reg, num_iters)\n",
        "\n",
        "preds = []\n",
        "actuals = []\n",
        "pred_matrix = U.dot(V.T)\n",
        "for u, i, actual in test_data:\n",
        "    preds.append(pred_matrix[u, i])\n",
        "    actuals.append(actual)\n",
        "\n",
        "als_rmse = sqrt(mean_squared_error(actuals, preds))\n",
        "als_mae = mean_absolute_error(actuals, preds)\n",
        "print(f\"\\nALS Model -> RMSE: {als_rmse:.4f}, MAE: {als_mae:.4f}\")"
      ],
      "metadata": {
        "colab": {
          "base_uri": "https://localhost:8080/"
        },
        "id": "8JI7LkMTFu8j",
        "outputId": "7274eb70-417e-498f-8181-48761eb4c586"
      },
      "execution_count": 15,
      "outputs": [
        {
          "output_type": "stream",
          "name": "stdout",
          "text": [
            "\n",
            "Training ALS model:\n",
            "Iteration 1/15, MSE: 2.1842\n",
            "Iteration 2/15, MSE: 0.4416\n",
            "Iteration 3/15, MSE: 0.3518\n",
            "Iteration 4/15, MSE: 0.3162\n",
            "Iteration 5/15, MSE: 0.2965\n",
            "Iteration 6/15, MSE: 0.2837\n",
            "Iteration 7/15, MSE: 0.2744\n",
            "Iteration 8/15, MSE: 0.2674\n",
            "Iteration 9/15, MSE: 0.2619\n",
            "Iteration 10/15, MSE: 0.2574\n",
            "Iteration 11/15, MSE: 0.2538\n",
            "Iteration 12/15, MSE: 0.2507\n",
            "Iteration 13/15, MSE: 0.2481\n",
            "Iteration 14/15, MSE: 0.2458\n",
            "Iteration 15/15, MSE: 0.2438\n",
            "\n",
            "ALS Model -> RMSE: 1.4457, MAE: 1.0469\n"
          ]
        }
      ]
    },
    {
      "cell_type": "markdown",
      "source": [
        "SVD Model (Matrix Factorization):\n",
        "\n",
        "\t•\tRMSE: 0.9352\n",
        "\t•\tMAE: 0.7375\n",
        "\n",
        "ALS Model (Alternating Least Squares):\n",
        "\n",
        "\t•\tRMSE: 1.4457\n",
        "\t•\tMAE: 1.0469\n",
        "\n",
        "Lower RMSE and MAE values indicate that the predictions are, on average, closer to the actual ratings. The SVD model has lower RMSE and MAE than the ALS model. This suggests that, on this dataset the SVD model’s predictions are more accurate. The matrix factorization approach implemented via SVD captures the underlying user-item interactions better than the ALS implementation. Because RMSE penalizes larger errors more heavily than MAE, the fact that both metrics are lower for the SVD model reinforces the conclusion that it not only has a lower average error but also fewer large prediction errors.\n",
        "\n",
        "References\n",
        "\n",
        "\t•\tHerlocker, J. L., Konstan, J. A., Terveen, L. G., & Riedl, J. T. (2004). Evaluating Collaborative Filtering Recommender Systems. https://dl.acm.org/doi/10.1145/963770.963772\n",
        "\t•\tKoren, Y., Bell, R., & Volinsky, C. (2009). Matrix Factorization Techniques for Recommender Systems. https://ieeexplore.ieee.org/document/5197422\n",
        "\t•\tHu, Y., Koren, Y., & Volinsky, C. (2008). Collaborative Filtering for Implicit Feedback Datasets. https://ieeexplore.ieee.org/document/4781121\n"
      ],
      "metadata": {
        "id": "zp3xB6kyGxbF"
      }
    }
  ]
}